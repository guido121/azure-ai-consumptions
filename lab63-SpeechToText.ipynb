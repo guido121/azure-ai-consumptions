{
 "cells": [
  {
   "cell_type": "code",
   "execution_count": 0,
   "metadata": {
    "application/vnd.databricks.v1+cell": {
     "cellMetadata": {
      "byteLimit": 2048000,
      "rowLimit": 10000
     },
     "inputWidgets": {},
     "nuid": "7aae2ee2-af6d-4659-a72e-3bc29d86773c",
     "showTitle": false,
     "title": ""
    }
   },
   "outputs": [],
   "source": [
    "import azure.cognitiveservices.speech as speechsdk"
   ]
  },
  {
   "cell_type": "code",
   "execution_count": 0,
   "metadata": {
    "application/vnd.databricks.v1+cell": {
     "cellMetadata": {
      "byteLimit": 2048000,
      "rowLimit": 10000
     },
     "inputWidgets": {},
     "nuid": "c2fea50c-3350-4c0b-8724-6b17dae98346",
     "showTitle": false,
     "title": ""
    }
   },
   "outputs": [],
   "source": [
    "clave = \"a9328ecbc77b4e53b8943a627ddd4cf0\"\n",
    "region = \"northcentralus\""
   ]
  },
  {
   "cell_type": "code",
   "execution_count": 0,
   "metadata": {
    "application/vnd.databricks.v1+cell": {
     "cellMetadata": {
      "byteLimit": 2048000,
      "rowLimit": 10000
     },
     "inputWidgets": {},
     "nuid": "f764dfd8-5ec1-46df-bf51-7291c87b32c4",
     "showTitle": false,
     "title": ""
    }
   },
   "outputs": [
    {
     "output_type": "display_data",
     "data": {
      "text/html": [
       "<style scoped>\n",
       "  .ansiout {\n",
       "    display: block;\n",
       "    unicode-bidi: embed;\n",
       "    white-space: pre-wrap;\n",
       "    word-wrap: break-word;\n",
       "    word-break: break-all;\n",
       "    font-family: \"Menlo\", \"Monaco\", \"Consolas\", \"Ubuntu Mono\", \"Source Code Pro\", monospace;\n",
       "    font-size: 13px;\n",
       "    color: #555;\n",
       "    margin-left: 4px;\n",
       "    line-height: 19px;\n",
       "  }\n",
       "</style>\n",
       "<div class=\"ansiout\">res3: Boolean = true\n",
       "</div>"
      ]
     },
     "metadata": {
      "application/vnd.databricks.v1+output": {
       "addedWidgets": {},
       "arguments": {},
       "data": "<div class=\"ansiout\">res3: Boolean = true\n</div>",
       "datasetInfos": [],
       "metadata": {
        "isDbfsCommandResult": false
       },
       "removedWidgets": [],
       "type": "html"
      }
     },
     "output_type": "display_data"
    }
   ],
   "source": [
    "%fs cp dbfs:///mnt/azure/data/AUDIO_CALL_CENTER.wav file:///tmp"
   ]
  },
  {
   "cell_type": "code",
   "execution_count": 0,
   "metadata": {
    "application/vnd.databricks.v1+cell": {
     "cellMetadata": {
      "byteLimit": 2048000,
      "rowLimit": 10000
     },
     "inputWidgets": {},
     "nuid": "8cf2a2a4-818e-4298-aeeb-874b6816053b",
     "showTitle": false,
     "title": ""
    }
   },
   "outputs": [],
   "source": [
    "from pydub import AudioSegment\n",
    "tiempoDeChunkMilisegundos = 5000"
   ]
  },
  {
   "cell_type": "code",
   "execution_count": 0,
   "metadata": {
    "application/vnd.databricks.v1+cell": {
     "cellMetadata": {
      "byteLimit": 2048000,
      "rowLimit": 10000
     },
     "inputWidgets": {},
     "nuid": "c1fbca69-f419-47fa-82dd-b13aa81a16f9",
     "showTitle": false,
     "title": ""
    }
   },
   "outputs": [],
   "source": [
    "audio = AudioSegment.from_file(\"/tmp/AUDIO_CALL_CENTER.wav\")"
   ]
  },
  {
   "cell_type": "code",
   "execution_count": 0,
   "metadata": {
    "application/vnd.databricks.v1+cell": {
     "cellMetadata": {
      "byteLimit": 2048000,
      "rowLimit": 10000
     },
     "inputWidgets": {},
     "nuid": "17f00c9c-3dd9-478e-a0df-9df3fdfa0c9e",
     "showTitle": false,
     "title": ""
    }
   },
   "outputs": [],
   "source": [
    "audioChunks = []"
   ]
  },
  {
   "cell_type": "code",
   "execution_count": 0,
   "metadata": {
    "application/vnd.databricks.v1+cell": {
     "cellMetadata": {
      "byteLimit": 2048000,
      "rowLimit": 10000
     },
     "inputWidgets": {},
     "nuid": "c2c0065b-c797-454e-92f0-4e9c08f11769",
     "showTitle": false,
     "title": ""
    }
   },
   "outputs": [],
   "source": [
    "for i in range(0,len(audio),tiempoDeChunkMilisegundos):\n",
    "  chunk = audio[i:(i+tiempoDeChunkMilisegundos)]\n",
    "  archivoChunk = \"/tmp/chunk_\"+str(i)+\".wav\"\n",
    "  chunk.export(archivoChunk,format = \"wav\")\n",
    "  audioChunks.append(archivoChunk)\n",
    "\n"
   ]
  },
  {
   "cell_type": "code",
   "execution_count": 0,
   "metadata": {
    "application/vnd.databricks.v1+cell": {
     "cellMetadata": {
      "byteLimit": 2048000,
      "rowLimit": 10000
     },
     "inputWidgets": {},
     "nuid": "a5889345-4ca4-4908-8581-0a993eb04cec",
     "showTitle": false,
     "title": ""
    }
   },
   "outputs": [
    {
     "output_type": "stream",
     "name": "stdout",
     "output_type": "stream",
     "text": [
      "Out[71]: ['/tmp/chunk_0.wav', '/tmp/chunk_5000.wav', '/tmp/chunk_10000.wav']"
     ]
    }
   ],
   "source": [
    "audioChunks"
   ]
  },
  {
   "cell_type": "code",
   "execution_count": 0,
   "metadata": {
    "application/vnd.databricks.v1+cell": {
     "cellMetadata": {
      "byteLimit": 2048000,
      "rowLimit": 10000
     },
     "inputWidgets": {},
     "nuid": "f2f6ac61-6aaf-43d2-8ca7-0c0a78c36766",
     "showTitle": false,
     "title": ""
    }
   },
   "outputs": [],
   "source": [
    "idioma = \"es-Es\""
   ]
  },
  {
   "cell_type": "code",
   "execution_count": 0,
   "metadata": {
    "application/vnd.databricks.v1+cell": {
     "cellMetadata": {
      "byteLimit": 2048000,
      "rowLimit": 10000
     },
     "inputWidgets": {},
     "nuid": "de221f31-f735-4151-a207-71ecb6477eb5",
     "showTitle": false,
     "title": ""
    }
   },
   "outputs": [],
   "source": [
    "configuracion = speechsdk.SpeechConfig(\n",
    "  subscription = clave,\n",
    "  region = region,\n",
    "  speech_recognition_language = idioma\n",
    ")"
   ]
  },
  {
   "cell_type": "code",
   "execution_count": 0,
   "metadata": {
    "application/vnd.databricks.v1+cell": {
     "cellMetadata": {
      "byteLimit": 2048000,
      "rowLimit": 10000
     },
     "inputWidgets": {},
     "nuid": "df4d8cf2-668f-48e7-9b90-c7545ec5e6aa",
     "showTitle": false,
     "title": ""
    }
   },
   "outputs": [
    {
     "output_type": "stream",
     "name": "stdout",
     "output_type": "stream",
     "text": [
      "Out[74]: '/tmp/chunk_0.wav'"
     ]
    }
   ],
   "source": [
    "audioChunks[0]"
   ]
  },
  {
   "cell_type": "code",
   "execution_count": 0,
   "metadata": {
    "application/vnd.databricks.v1+cell": {
     "cellMetadata": {
      "byteLimit": 2048000,
      "rowLimit": 10000
     },
     "inputWidgets": {},
     "nuid": "67fef621-6482-4522-a6af-5bfb0c400105",
     "showTitle": false,
     "title": ""
    }
   },
   "outputs": [],
   "source": [
    "archivo = speechsdk.audio.AudioConfig(filename=audioChunks[0])"
   ]
  },
  {
   "cell_type": "code",
   "execution_count": 0,
   "metadata": {
    "application/vnd.databricks.v1+cell": {
     "cellMetadata": {
      "byteLimit": 2048000,
      "rowLimit": 10000
     },
     "inputWidgets": {},
     "nuid": "11fa45a1-2a68-497d-8267-a94467a27d56",
     "showTitle": false,
     "title": ""
    }
   },
   "outputs": [],
   "source": [
    "servicio = speechsdk.SpeechRecognizer(\n",
    "  speech_config=configuracion,\n",
    "  audio_config=archivo\n",
    ")"
   ]
  },
  {
   "cell_type": "code",
   "execution_count": 0,
   "metadata": {
    "application/vnd.databricks.v1+cell": {
     "cellMetadata": {
      "byteLimit": 2048000,
      "rowLimit": 10000
     },
     "inputWidgets": {},
     "nuid": "47d10c6f-6bb7-4978-90d1-68985df50142",
     "showTitle": false,
     "title": ""
    }
   },
   "outputs": [],
   "source": [
    "resultado = servicio.recognize_once()"
   ]
  },
  {
   "cell_type": "code",
   "execution_count": 0,
   "metadata": {
    "application/vnd.databricks.v1+cell": {
     "cellMetadata": {
      "byteLimit": 2048000,
      "rowLimit": 10000
     },
     "inputWidgets": {},
     "nuid": "bbf4a8fd-92d4-4cf2-91e5-c0e2a7a13bf2",
     "showTitle": false,
     "title": ""
    }
   },
   "outputs": [
    {
     "output_type": "stream",
     "name": "stdout",
     "output_type": "stream",
     "text": [
      "Out[78]: '¿Hola Santiago, cómo estás? Te habla Andrés, asesor comercial y encargado de tu servicio telefónico.'"
     ]
    }
   ],
   "source": [
    "resultado.text"
   ]
  },
  {
   "cell_type": "code",
   "execution_count": 0,
   "metadata": {
    "application/vnd.databricks.v1+cell": {
     "cellMetadata": {
      "byteLimit": 2048000,
      "rowLimit": 10000
     },
     "inputWidgets": {},
     "nuid": "e2d57a00-6740-49da-85a2-5169899efce6",
     "showTitle": false,
     "title": ""
    }
   },
   "outputs": [],
   "source": [
    "textoDelAudio = \"\""
   ]
  },
  {
   "cell_type": "code",
   "execution_count": 0,
   "metadata": {
    "application/vnd.databricks.v1+cell": {
     "cellMetadata": {
      "byteLimit": 2048000,
      "rowLimit": 10000
     },
     "inputWidgets": {},
     "nuid": "5230628d-cc45-440f-b1c0-a533f3f0b544",
     "showTitle": false,
     "title": ""
    }
   },
   "outputs": [
    {
     "output_type": "stream",
     "name": "stdout",
     "output_type": "stream",
     "text": [
      "Obteniendo el audio del chunk:/tmp/chunk_0.wav\nObteniendo el audio del chunk:/tmp/chunk_5000.wav\nObteniendo el audio del chunk:/tmp/chunk_10000.wav\n"
     ]
    }
   ],
   "source": [
    "for chunk in audioChunks:\n",
    "  print(\"Obteniendo el audio del chunk:\"+chunk)\n",
    "  archivo = speechsdk.audio.AudioConfig(filename = chunk)\n",
    "  servicio = speechsdk.SpeechRecognizer(\n",
    "    speech_config = configuracion,\n",
    "    audio_config= archivo\n",
    "  )\n",
    "  resultado = servicio.recognize_once()\n",
    "  textoDelAudio = textoDelAudio + \" \" + resultado.text"
   ]
  },
  {
   "cell_type": "code",
   "execution_count": 0,
   "metadata": {
    "application/vnd.databricks.v1+cell": {
     "cellMetadata": {
      "byteLimit": 2048000,
      "rowLimit": 10000
     },
     "inputWidgets": {},
     "nuid": "c85a77e3-b17a-4781-8fc5-1801e7ccb21d",
     "showTitle": false,
     "title": ""
    }
   },
   "outputs": [
    {
     "output_type": "stream",
     "name": "stdout",
     "output_type": "stream",
     "text": [
      "Out[82]: ' ¿Hola Santiago, cómo estás? Te habla Andrés, asesor comercial y encargado de tu servicio telefónico. ¿Cómo estás? Ah, bien, gracias, no, no estoy interesado. Muchísimas gracias. Mira Santiago. ¿El motivo? Mi llamado es breve y es para darte un beneficio hasta del 7% en tu factura del móvil.'"
     ]
    }
   ],
   "source": [
    "textoDelAudio"
   ]
  },
  {
   "cell_type": "code",
   "execution_count": 0,
   "metadata": {
    "application/vnd.databricks.v1+cell": {
     "cellMetadata": {
      "byteLimit": 2048000,
      "rowLimit": 10000
     },
     "inputWidgets": {},
     "nuid": "580fd91a-51db-471e-b41d-6f782cfc1440",
     "showTitle": false,
     "title": ""
    }
   },
   "outputs": [],
   "source": [
    "#Función de traducción de voz a texto\n",
    "def traduccionDeVozHaciaTexto(archivoDeAudio, idioma):\n",
    "  tiempoDeChunkMilisegundos = 5000\n",
    "  audio = AudioSegment.from_file(\"/tmp/AUDIO_CALL_CENTER.wav\")\n",
    "  audioChunks = []\n",
    "  for i in range(0,len(audio),tiempoDeChunkMilisegundos):\n",
    "    chunk = audio[i:(i+tiempoDeChunkMilisegundos)]\n",
    "    archivoChunk = \"/tmp/chunk_\"+str(i)+\".wav\"\n",
    "    chunk.export(archivoChunk,format = \"wav\")\n",
    "    audioChunks.append(archivoChunk)\n",
    "\n",
    "  configuracion = speechsdk.SpeechConfig(\n",
    "  subscription = clave,\n",
    "  region = region,\n",
    "  speech_recognition_language = idioma\n",
    "  )\n",
    "\n",
    "  textoDelAudio = \"\"\n",
    "\n",
    "  for chunk in audioChunks:\n",
    "    print(\"Obteniendo el audio del chunk:\"+chunk)\n",
    "    archivo = speechsdk.audio.AudioConfig(filename = chunk)\n",
    "    servicio = speechsdk.SpeechRecognizer(\n",
    "      speech_config = configuracion,\n",
    "      audio_config= archivo\n",
    "    )\n",
    "    resultado = servicio.recognize_once()\n",
    "    textoDelAudio = textoDelAudio + \" \" + resultado.text\n",
    "  \n",
    "  return textoDelAudio\n",
    "\n"
   ]
  },
  {
   "cell_type": "code",
   "execution_count": 0,
   "metadata": {
    "application/vnd.databricks.v1+cell": {
     "cellMetadata": {
      "byteLimit": 2048000,
      "rowLimit": 10000
     },
     "inputWidgets": {},
     "nuid": "510929f0-a180-4a38-ae17-3039e4f844d7",
     "showTitle": false,
     "title": ""
    }
   },
   "outputs": [
    {
     "output_type": "stream",
     "name": "stdout",
     "output_type": "stream",
     "text": [
      "Obteniendo el audio del chunk:/tmp/chunk_0.wav\nObteniendo el audio del chunk:/tmp/chunk_5000.wav\nObteniendo el audio del chunk:/tmp/chunk_10000.wav\n"
     ]
    }
   ],
   "source": [
    "#Ejecutamos la función\n",
    "texto = traduccionDeVozHaciaTexto(\"/tmp/AUDIO_CALL_CENTER.wav\",\"es-Es\")"
   ]
  },
  {
   "cell_type": "code",
   "execution_count": 0,
   "metadata": {
    "application/vnd.databricks.v1+cell": {
     "cellMetadata": {
      "byteLimit": 2048000,
      "rowLimit": 10000
     },
     "inputWidgets": {},
     "nuid": "8fec9f58-7be9-406f-8199-f2eddcce433f",
     "showTitle": false,
     "title": ""
    }
   },
   "outputs": [
    {
     "output_type": "stream",
     "name": "stdout",
     "output_type": "stream",
     "text": [
      "Out[86]: ' ¿Hola Santiago, cómo estás? Te habla Andrés, asesor comercial y encargado de tu servicio telefónico. ¿Cómo estás? Ah, bien, gracias, no, no estoy interesado. Muchísimas gracias. Mira Santiago. ¿El motivo? Mi llamado es breve y es para darte un beneficio hasta del 7% en tu factura del móvil.'"
     ]
    }
   ],
   "source": [
    "texto"
   ]
  }
 ],
 "metadata": {
  "application/vnd.databricks.v1+notebook": {
   "dashboards": [],
   "language": "python",
   "notebookMetadata": {
    "mostRecentlyExecutedCommandWithImplicitDF": {
     "commandId": 1316712275922201,
     "dataframes": [
      "_sqldf"
     ]
    },
    "pythonIndentUnit": 2
   },
   "notebookName": "lab63-SpeechToText",
   "widgets": {}
  }
 },
 "nbformat": 4,
 "nbformat_minor": 0
}
