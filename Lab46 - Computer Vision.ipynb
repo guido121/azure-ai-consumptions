{
 "cells": [
  {
   "cell_type": "code",
   "execution_count": 0,
   "metadata": {
    "application/vnd.databricks.v1+cell": {
     "cellMetadata": {
      "byteLimit": 2048000,
      "rowLimit": 10000
     },
     "inputWidgets": {},
     "nuid": "67834e26-f3d7-4d31-b449-99e1e75545c3",
     "showTitle": false,
     "title": ""
    }
   },
   "outputs": [],
   "source": [
    "cuentaAlmacenamiento = \"storageailgpr\"\n",
    "blobStorage = \"datasetbda\"\n",
    "tokenSas = \"sv=2022-11-02&ss=bfqt&srt=sco&sp=rwdlacupyx&se=2024-05-02T05:59:09Z&st=2024-04-02T21:59:09Z&spr=https,http&sig=eiTeqxM6zGYae26aYRjM%2FRwS8JGQjlkefEdlG2w1%2F3o%3D\""
   ]
  },
  {
   "cell_type": "code",
   "execution_count": 0,
   "metadata": {
    "application/vnd.databricks.v1+cell": {
     "cellMetadata": {
      "byteLimit": 2048000,
      "rowLimit": 10000
     },
     "inputWidgets": {},
     "nuid": "b4b2efb7-0731-4e4a-a821-e7d6aec16775",
     "showTitle": false,
     "title": ""
    }
   },
   "outputs": [
    {
     "output_type": "stream",
     "name": "stdout",
     "output_type": "stream",
     "text": [
      "dbfs:///mnt/azure has been unmounted.\nOut[16]: True"
     ]
    }
   ],
   "source": [
    "dbutils.fs.unmount(\"dbfs:///mnt/azure\")"
   ]
  },
  {
   "cell_type": "code",
   "execution_count": 0,
   "metadata": {
    "application/vnd.databricks.v1+cell": {
     "cellMetadata": {
      "byteLimit": 2048000,
      "rowLimit": 10000
     },
     "inputWidgets": {},
     "nuid": "971eb70d-175d-4351-b412-59dc58c9a234",
     "showTitle": false,
     "title": ""
    }
   },
   "outputs": [
    {
     "output_type": "stream",
     "name": "stdout",
     "output_type": "stream",
     "text": [
      "Out[17]: True"
     ]
    }
   ],
   "source": [
    "dbutils.fs.mount(\n",
    "  source = \"wasbs://\"+blobStorage+\"@\"+cuentaAlmacenamiento+\".blob.core.windows.net\",\n",
    "  mount_point = \"/mnt/azure\",\n",
    "  extra_configs = {\n",
    "    \"fs.azure.sas.\"+blobStorage+\".\"+cuentaAlmacenamiento+\".blob.core.windows.net\" : tokenSas\n",
    "  }\n",
    ")"
   ]
  },
  {
   "cell_type": "code",
   "execution_count": 0,
   "metadata": {
    "application/vnd.databricks.v1+cell": {
     "cellMetadata": {
      "byteLimit": 2048000,
      "rowLimit": 10000
     },
     "inputWidgets": {},
     "nuid": "719c0349-7ab8-48f1-9cdb-3ba3d446ff1b",
     "showTitle": false,
     "title": ""
    }
   },
   "outputs": [
    {
     "output_type": "display_data",
     "data": {
      "text/html": [
       "<style scoped>\n",
       "  .table-result-container {\n",
       "    max-height: 300px;\n",
       "    overflow: auto;\n",
       "  }\n",
       "  table, th, td {\n",
       "    border: 1px solid black;\n",
       "    border-collapse: collapse;\n",
       "  }\n",
       "  th, td {\n",
       "    padding: 5px;\n",
       "  }\n",
       "  th {\n",
       "    text-align: left;\n",
       "  }\n",
       "</style><div class='table-result-container'><table class='table-result'><thead style='background-color: white'><tr><th>path</th><th>name</th><th>size</th><th>modificationTime</th></tr></thead><tbody><tr><td>dbfs:/mnt/azure/data/IMAGEN_1.jpg</td><td>IMAGEN_1.jpg</td><td>161943</td><td>1712090924000</td></tr><tr><td>dbfs:/mnt/azure/data/IMAGEN_2.jpg</td><td>IMAGEN_2.jpg</td><td>310010</td><td>1712090924000</td></tr><tr><td>dbfs:/mnt/azure/data/arial.ttf</td><td>arial.ttf</td><td>367112</td><td>1712090924000</td></tr></tbody></table></div>"
      ]
     },
     "metadata": {
      "application/vnd.databricks.v1+output": {
       "addedWidgets": {},
       "aggData": [],
       "aggError": "",
       "aggOverflow": false,
       "aggSchema": [],
       "aggSeriesLimitReached": false,
       "aggType": "",
       "arguments": {},
       "columnCustomDisplayInfos": {},
       "data": [
        [
         "dbfs:/mnt/azure/data/IMAGEN_1.jpg",
         "IMAGEN_1.jpg",
         161943,
         1712090924000
        ],
        [
         "dbfs:/mnt/azure/data/IMAGEN_2.jpg",
         "IMAGEN_2.jpg",
         310010,
         1712090924000
        ],
        [
         "dbfs:/mnt/azure/data/arial.ttf",
         "arial.ttf",
         367112,
         1712090924000
        ]
       ],
       "datasetInfos": [],
       "dbfsResultPath": null,
       "isJsonSchema": true,
       "metadata": {
        "isDbfsCommandResult": false
       },
       "overflow": false,
       "plotOptions": {
        "customPlotOptions": {},
        "displayType": "table",
        "pivotAggregation": null,
        "pivotColumns": null,
        "xColumns": null,
        "yColumns": null
       },
       "removedWidgets": [],
       "schema": [
        {
         "metadata": "{}",
         "name": "path",
         "type": "\"string\""
        },
        {
         "metadata": "{}",
         "name": "name",
         "type": "\"string\""
        },
        {
         "metadata": "{}",
         "name": "size",
         "type": "\"long\""
        },
        {
         "metadata": "{}",
         "name": "modificationTime",
         "type": "\"long\""
        }
       ],
       "type": "table"
      }
     },
     "output_type": "display_data"
    }
   ],
   "source": [
    "%fs ls dbfs:///mnt/azure/data"
   ]
  },
  {
   "cell_type": "code",
   "execution_count": 0,
   "metadata": {
    "application/vnd.databricks.v1+cell": {
     "cellMetadata": {},
     "inputWidgets": {},
     "nuid": "f3298f52-ac94-416a-a2c0-b7a8c728bc82",
     "showTitle": false,
     "title": ""
    }
   },
   "outputs": [],
   "source": [
    "https://computervisionlgpr.cognitiveservices.azure.com/\n",
    "02d1b266c283499da549184a3c695d1a"
   ]
  }
 ],
 "metadata": {
  "application/vnd.databricks.v1+notebook": {
   "dashboards": [],
   "language": "python",
   "notebookMetadata": {
    "mostRecentlyExecutedCommandWithImplicitDF": {
     "commandId": 3584305267426241,
     "dataframes": [
      "_sqldf"
     ]
    },
    "pythonIndentUnit": 2
   },
   "notebookName": "Lab46 - Computer Vision",
   "widgets": {}
  }
 },
 "nbformat": 4,
 "nbformat_minor": 0
}
