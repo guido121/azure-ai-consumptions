{
 "cells": [
  {
   "cell_type": "code",
   "execution_count": 0,
   "metadata": {
    "application/vnd.databricks.v1+cell": {
     "cellMetadata": {
      "byteLimit": 2048000,
      "rowLimit": 10000
     },
     "inputWidgets": {},
     "nuid": "99f95d3a-484c-483b-bf7c-151ec820310d",
     "showTitle": false,
     "title": ""
    }
   },
   "outputs": [],
   "source": [
    "#Utilitario para iniciar sesión en el servicio\n",
    "from azure.ai.translation.text import TranslatorCredential\n",
    "from azure.ai.translation.text import TextTranslationClient\n",
    "from azure.ai.translation.text.models import InputTextItem"
   ]
  },
  {
   "cell_type": "code",
   "execution_count": 0,
   "metadata": {
    "application/vnd.databricks.v1+cell": {
     "cellMetadata": {
      "byteLimit": 2048000,
      "rowLimit": 10000
     },
     "inputWidgets": {},
     "nuid": "fe6ecd00-869f-41dc-891a-44ed8062eb81",
     "showTitle": false,
     "title": ""
    }
   },
   "outputs": [],
   "source": [
    "region = \"northcentralus\"\n",
    "clave = \"f7c6dc4994794ba8b4a62f8d53cf09cb\"\n",
    "credenciales = TranslatorCredential(clave, region)"
   ]
  },
  {
   "cell_type": "code",
   "execution_count": 0,
   "metadata": {
    "application/vnd.databricks.v1+cell": {
     "cellMetadata": {
      "byteLimit": 2048000,
      "rowLimit": 10000
     },
     "inputWidgets": {},
     "nuid": "a0f7ee7b-aa1f-4888-aea3-aee1fa8d495c",
     "showTitle": false,
     "title": ""
    }
   },
   "outputs": [],
   "source": [
    "servicio = TextTranslationClient(\n",
    "  credential=credenciales\n",
    ")"
   ]
  },
  {
   "cell_type": "code",
   "execution_count": 0,
   "metadata": {
    "application/vnd.databricks.v1+cell": {
     "cellMetadata": {
      "byteLimit": 2048000,
      "rowLimit": 10000
     },
     "inputWidgets": {},
     "nuid": "ba72aec2-a0a9-4235-ae4f-a3e45e4ee87f",
     "showTitle": false,
     "title": ""
    }
   },
   "outputs": [],
   "source": [
    "documentos = [\n",
    "\"\"\"\n",
    "Was am Menschen gross ist, das ist, dass er eine Brücke und kein Zweck ist: was geliebt werden kann am Menschen, das ist, dass er ein Uebergang und ein Untergang ist. Ich liebe diejenigen, welche nicht anders leben wollen, als dass sie untergehen, denn es sind die Hinaufsteigenden. Ich liebe diejenigen, welche gleich springen zur Überbrückung, und den Untergang segnen. Ich liebe diejenigen, welche ihren Geist tödten, und dafür ihre Tugend preisen,—sie wenden sich um, damit jenseits von ihnen die Wahrheit lebt. Ich liebe diejenigen, welche sich selbst schaffen und sich eine Ruhstatt bereiten: sie überwinden sich selbst. Ich liebe diejenigen, welche aus Überwindung geboren sind und an ihrem Ueberwinden Freude haben. Ich liebe die Geistreichen, die ihren Geist verbrauchen in Leidenschaft: sie wollen sich überleben und die Leidenschaft.\n",
    "\"\"\",\n",
    "\"\"\"\n",
    "Вот он стоит перед тобой, перед лицом твоим и тем не менее ты не в силах понять, что с этим делать, как остановить его, как с ним разговаривать, как побороть его! О, страшно, страшно! И вот ты убежден, что вот-вот сделаешь мужественный поступок, звезда мученичества тут же взойдет на небе, и ты почувствуешь, как на сердце опускается легкость, как будто ты одним взмахом обрушил с груди тяжелое бремя, и вот ты весь горячий, полный жизни, красок, восторга, и... о боже, что это такое?\n",
    "\"\"\",\n",
    "\"\"\"\n",
    "Quand nous travaillons pour la bonne cause, nous sommes prêts à nous sacrifier, car il n'y a point de plus grand bonheur que de souffrir pour des riens. Tout est bien, soit dit sans négation, et tout va mieux que vous ne pouvez le désirer. Jamais le meilleur des mondes ne fut si proche que dans notre Candide.\n",
    "\"\"\"\n",
    "]\n"
   ]
  },
  {
   "cell_type": "code",
   "execution_count": 0,
   "metadata": {
    "application/vnd.databricks.v1+cell": {
     "cellMetadata": {
      "byteLimit": 2048000,
      "rowLimit": 10000
     },
     "inputWidgets": {},
     "nuid": "f992e52d-60f0-42ea-a9d2-4f0043c5020e",
     "showTitle": false,
     "title": ""
    }
   },
   "outputs": [],
   "source": [
    "lenguajes = [\"es\",\"en\"]"
   ]
  },
  {
   "cell_type": "code",
   "execution_count": 0,
   "metadata": {
    "application/vnd.databricks.v1+cell": {
     "cellMetadata": {
      "byteLimit": 2048000,
      "rowLimit": 10000
     },
     "inputWidgets": {},
     "nuid": "1a93a198-822a-49f2-8f12-9708db0df46a",
     "showTitle": false,
     "title": ""
    }
   },
   "outputs": [],
   "source": [
    "documentosPorTraducir = []"
   ]
  },
  {
   "cell_type": "code",
   "execution_count": 0,
   "metadata": {
    "application/vnd.databricks.v1+cell": {
     "cellMetadata": {
      "byteLimit": 2048000,
      "rowLimit": 10000
     },
     "inputWidgets": {},
     "nuid": "4d49bcef-f6df-4ccb-8ed1-261ab2634adb",
     "showTitle": false,
     "title": ""
    }
   },
   "outputs": [],
   "source": [
    "for documento in documentos:\n",
    "  documentosPorTraducir.append(\n",
    "    InputTextItem(text = documento)\n",
    "  )"
   ]
  },
  {
   "cell_type": "code",
   "execution_count": 0,
   "metadata": {
    "application/vnd.databricks.v1+cell": {
     "cellMetadata": {
      "byteLimit": 2048000,
      "rowLimit": 10000
     },
     "inputWidgets": {},
     "nuid": "2a5248e2-92d7-4a75-a6fc-dac68b7f37f5",
     "showTitle": false,
     "title": ""
    }
   },
   "outputs": [
    {
     "output_type": "stream",
     "name": "stdout",
     "output_type": "stream",
     "text": [
      "Out[8]: [{'text': '\\nWas am Menschen gross ist, das ist, dass er eine Brücke und kein Zweck ist: was geliebt werden kann am Menschen, das ist, dass er ein Uebergang und ein Untergang ist. Ich liebe diejenigen, welche nicht anders leben wollen, als dass sie untergehen, denn es sind die Hinaufsteigenden. Ich liebe diejenigen, welche gleich springen zur Überbrückung, und den Untergang segnen. Ich liebe diejenigen, welche ihren Geist tödten, und dafür ihre Tugend preisen,—sie wenden sich um, damit jenseits von ihnen die Wahrheit lebt. Ich liebe diejenigen, welche sich selbst schaffen und sich eine Ruhstatt bereiten: sie überwinden sich selbst. Ich liebe diejenigen, welche aus Überwindung geboren sind und an ihrem Ueberwinden Freude haben. Ich liebe die Geistreichen, die ihren Geist verbrauchen in Leidenschaft: sie wollen sich überleben und die Leidenschaft.\\n'},\n {'text': '\\nВот он стоит перед тобой, перед лицом твоим и тем не менее ты не в силах понять, что с этим делать, как остановить его, как с ним разговаривать, как побороть его! О, страшно, страшно! И вот ты убежден, что вот-вот сделаешь мужественный поступок, звезда мученичества тут же взойдет на небе, и ты почувствуешь, как на сердце опускается легкость, как будто ты одним взмахом обрушил с груди тяжелое бремя, и вот ты весь горячий, полный жизни, красок, восторга, и... о боже, что это такое?\\n'},\n {'text': \"\\nQuand nous travaillons pour la bonne cause, nous sommes prêts à nous sacrifier, car il n'y a point de plus grand bonheur que de souffrir pour des riens. Tout est bien, soit dit sans négation, et tout va mieux que vous ne pouvez le désirer. Jamais le meilleur des mondes ne fut si proche que dans notre Candide.\\n\"}]"
     ]
    }
   ],
   "source": [
    "documentosPorTraducir"
   ]
  },
  {
   "cell_type": "code",
   "execution_count": 0,
   "metadata": {
    "application/vnd.databricks.v1+cell": {
     "cellMetadata": {
      "byteLimit": 2048000,
      "rowLimit": 10000
     },
     "inputWidgets": {},
     "nuid": "43fb6077-3417-420b-b38d-78b6969b15ed",
     "showTitle": false,
     "title": ""
    }
   },
   "outputs": [],
   "source": [
    "resultados = servicio.translate(\n",
    "  content = documentosPorTraducir,\n",
    "  to = lenguajes\n",
    ")"
   ]
  },
  {
   "cell_type": "code",
   "execution_count": 0,
   "metadata": {
    "application/vnd.databricks.v1+cell": {
     "cellMetadata": {
      "byteLimit": 2048000,
      "rowLimit": 10000
     },
     "inputWidgets": {},
     "nuid": "b82207f6-465a-4c69-a91e-4bcf75237fea",
     "showTitle": false,
     "title": ""
    }
   },
   "outputs": [
    {
     "output_type": "stream",
     "name": "stdout",
     "output_type": "stream",
     "text": [
      "Out[12]: {'detectedLanguage': {'language': 'de', 'score': 1.0}, 'translations': [{'text': '\\nLo bueno del hombre es que es un puente y no un fin: lo que se puede amar en el hombre es que es una transición y una caída. Amo a aquellos que no quieren vivir de otra manera que no sea perecer, porque ellos son los ascendentes. Amo a aquellos que saltan de inmediato para cerrar la brecha y bendecir la caída. Amo a los que matan sus espíritus, y alabo su virtud por ello: se dan la vuelta para que la verdad viva más allá de ellos. Amo a los que se crean a sí mismos y se preparan un lugar de descanso: se superan a sí mismos. Amo a los que nacen de la superación y se complacen en la superación. Me encantan los ingeniosos que consumen su espíritu en la pasión: quieren sobrevivir a sí mismos y a la pasión.\\n', 'to': 'es'}, {'text': '\\nWhat is great about man is that he is a bridge and not an end: what can be loved in man is that he is a transition and a downfall. I love those who do not want to live otherwise than to perish, for they are the ascenders. I love those who jump right away to bridge the gap, and bless the downfall. I love those who kill their spirits, and praise their virtue for it—they turn around so that the truth may live beyond them. I love those who create themselves and prepare a resting place for themselves: they overcome themselves. I love those who are born of overcoming and take pleasure in overcoming. I love the witty who consume their spirit in passion: they want to survive themselves and passion.\\n', 'to': 'en'}]}"
     ]
    }
   ],
   "source": [
    "resultados[0]"
   ]
  },
  {
   "cell_type": "code",
   "execution_count": 0,
   "metadata": {
    "application/vnd.databricks.v1+cell": {
     "cellMetadata": {
      "byteLimit": 2048000,
      "rowLimit": 10000
     },
     "inputWidgets": {},
     "nuid": "1015df11-c023-47bf-b74c-df8ac7e2ecf6",
     "showTitle": false,
     "title": ""
    }
   },
   "outputs": [
    {
     "output_type": "stream",
     "name": "stdout",
     "output_type": "stream",
     "text": [
      "Out[13]: {'text': '\\nLo bueno del hombre es que es un puente y no un fin: lo que se puede amar en el hombre es que es una transición y una caída. Amo a aquellos que no quieren vivir de otra manera que no sea perecer, porque ellos son los ascendentes. Amo a aquellos que saltan de inmediato para cerrar la brecha y bendecir la caída. Amo a los que matan sus espíritus, y alabo su virtud por ello: se dan la vuelta para que la verdad viva más allá de ellos. Amo a los que se crean a sí mismos y se preparan un lugar de descanso: se superan a sí mismos. Amo a los que nacen de la superación y se complacen en la superación. Me encantan los ingeniosos que consumen su espíritu en la pasión: quieren sobrevivir a sí mismos y a la pasión.\\n',\n 'to': 'es'}"
     ]
    }
   ],
   "source": [
    "resultados[0]['translations'][0]"
   ]
  },
  {
   "cell_type": "code",
   "execution_count": 0,
   "metadata": {
    "application/vnd.databricks.v1+cell": {
     "cellMetadata": {
      "byteLimit": 2048000,
      "rowLimit": 10000
     },
     "inputWidgets": {},
     "nuid": "9ca88be8-bdda-44b7-a3c4-2b73dc67ce9b",
     "showTitle": false,
     "title": ""
    }
   },
   "outputs": [],
   "source": [
    "#Definimos la linea\n",
    "linea = (\n",
    "  str(resultados[0][\"detectedLanguage\"][\"language\"]) + \"|\" +\n",
    "  str(resultados[0][\"detectedLanguage\"][\"score\"]) + \"|\" +\n",
    "  str(resultados[0][\"translations\"][0][\"to\"]) + \"|\" +\n",
    "  str(resultados[0][\"translations\"][0][\"text\"])\n",
    ")\n",
    "\n",
    "#Verificamos"
   ]
  },
  {
   "cell_type": "code",
   "execution_count": 0,
   "metadata": {
    "application/vnd.databricks.v1+cell": {
     "cellMetadata": {
      "byteLimit": 2048000,
      "rowLimit": 10000
     },
     "inputWidgets": {},
     "nuid": "0df0b408-e069-4e2a-a999-44d438c7adb1",
     "showTitle": false,
     "title": ""
    }
   },
   "outputs": [],
   "source": [
    "descripcion = \"\""
   ]
  },
  {
   "cell_type": "code",
   "execution_count": 0,
   "metadata": {
    "application/vnd.databricks.v1+cell": {
     "cellMetadata": {
      "byteLimit": 2048000,
      "rowLimit": 10000
     },
     "inputWidgets": {},
     "nuid": "e896258f-f5c2-48ce-804a-d325aa38dabf",
     "showTitle": false,
     "title": ""
    }
   },
   "outputs": [],
   "source": [
    "for resultado in resultados:\n",
    "  for traduccion in resultado[\"translations\"]:\n",
    "    linea = (\n",
    "      str(resultado[\"detectedLanguage\"][\"language\"]) + \"|\" +\n",
    "      str(resultado[\"detectedLanguage\"][\"score\"]) + \"|\" +\n",
    "      str(traduccion[\"to\"]) + \"|\" +\n",
    "      str(traduccion[\"text\"])\n",
    "    )\n",
    "\n",
    "    #Agregamos cada linea a la descripción\n",
    "    descripcion = descripcion + linea + \"\\n\""
   ]
  },
  {
   "cell_type": "code",
   "execution_count": 0,
   "metadata": {
    "application/vnd.databricks.v1+cell": {
     "cellMetadata": {
      "byteLimit": 2048000,
      "rowLimit": 10000
     },
     "inputWidgets": {},
     "nuid": "5bd648cd-9a22-4b54-b4e1-7d4ca22044af",
     "showTitle": false,
     "title": ""
    }
   },
   "outputs": [
    {
     "output_type": "stream",
     "name": "stdout",
     "output_type": "stream",
     "text": [
      "de|1.0|es|\nLo bueno del hombre es que es un puente y no un fin: lo que se puede amar en el hombre es que es una transición y una caída. Amo a aquellos que no quieren vivir de otra manera que no sea perecer, porque ellos son los ascendentes. Amo a aquellos que saltan de inmediato para cerrar la brecha y bendecir la caída. Amo a los que matan sus espíritus, y alabo su virtud por ello: se dan la vuelta para que la verdad viva más allá de ellos. Amo a los que se crean a sí mismos y se preparan un lugar de descanso: se superan a sí mismos. Amo a los que nacen de la superación y se complacen en la superación. Me encantan los ingeniosos que consumen su espíritu en la pasión: quieren sobrevivir a sí mismos y a la pasión.\n\nde|1.0|en|\nWhat is great about man is that he is a bridge and not an end: what can be loved in man is that he is a transition and a downfall. I love those who do not want to live otherwise than to perish, for they are the ascenders. I love those who jump right away to bridge the gap, and bless the downfall. I love those who kill their spirits, and praise their virtue for it—they turn around so that the truth may live beyond them. I love those who create themselves and prepare a resting place for themselves: they overcome themselves. I love those who are born of overcoming and take pleasure in overcoming. I love the witty who consume their spirit in passion: they want to survive themselves and passion.\n\nru|1.0|es|\nAquí está parado frente a ti, frente a tu cara, y sin embargo eres incapaz de entender qué hacer con él, cómo detenerlo, cómo hablarle, cómo superarlo. ¡Oh, da miedo, da miedo! Y ahora estás convencido de que estás a punto de hacer una hazaña valiente, la estrella del martirio se elevará inmediatamente en el cielo y sentirás que la ligereza desciende sobre tu corazón, como si hubieras levantado una pesada carga de tu pecho de un solo golpe, y aquí estás todo caliente, lleno de vida, colores, deleite y... Oh, Dios mío, ¿qué es?\n\nru|1.0|en|\nHere he is standing in front of you, in front of your face, and yet you are unable to understand what to do with it, how to stop it, how to talk to it, how to overcome it! Oh, it's scary, it's scary! And now you are convinced that you are about to do a courageous deed, the star of martyrdom will immediately rise in the sky, and you will feel lightness descend on your heart, as if you have lifted a heavy burden from your chest with one stroke, and here you are all hot, full of life, colors, delight, and... Oh my God, what is it?\n\nfr|1.0|es|\nCuando trabajamos por una buena causa, estamos dispuestos a sacrificarnos, porque no hay mayor felicidad que sufrir por nada. Todo está bien, digámoslo sin negación, y todo es mejor de lo que se puede desear. Nunca estuvo tan cerca el mejor de todos los mundos como en nuestro Cándido.\n\nfr|1.0|en|\nWhen we work for a good cause, we are ready to sacrifice ourselves, for there is no greater happiness than to suffer for nothing. All is well, let it be said without negation, and all is better than you can desire. Never was the best of all worlds so near as in our Candide.\n\n\n"
     ]
    }
   ],
   "source": [
    "print(descripcion)"
   ]
  },
  {
   "cell_type": "code",
   "execution_count": 0,
   "metadata": {
    "application/vnd.databricks.v1+cell": {
     "cellMetadata": {
      "byteLimit": 2048000,
      "rowLimit": 10000
     },
     "inputWidgets": {},
     "nuid": "c6d860e6-7ab2-4cbb-b42a-cc5e4d20094d",
     "showTitle": false,
     "title": ""
    }
   },
   "outputs": [],
   "source": [
    "#Le agregamos una cabecera\n",
    "descripcion = \"IDIOMA_ORIGEN|PROBABILIDAD|IDIOMA_DESTINO|TRADUCCION\" + \"\\n\" + descripcion"
   ]
  },
  {
   "cell_type": "code",
   "execution_count": 0,
   "metadata": {
    "application/vnd.databricks.v1+cell": {
     "cellMetadata": {
      "byteLimit": 2048000,
      "rowLimit": 10000
     },
     "inputWidgets": {},
     "nuid": "422ac14e-be79-4160-8838-625a94914f4b",
     "showTitle": false,
     "title": ""
    }
   },
   "outputs": [
    {
     "output_type": "stream",
     "name": "stdout",
     "output_type": "stream",
     "text": [
      "IDIOMA_ORIGEN|PROBABILIDAD|IDIOMA_DESTINO|TRADUCCION\nde|1.0|es|\nLo bueno del hombre es que es un puente y no un fin: lo que se puede amar en el hombre es que es una transición y una caída. Amo a aquellos que no quieren vivir de otra manera que no sea perecer, porque ellos son los ascendentes. Amo a aquellos que saltan de inmediato para cerrar la brecha y bendecir la caída. Amo a los que matan sus espíritus, y alabo su virtud por ello: se dan la vuelta para que la verdad viva más allá de ellos. Amo a los que se crean a sí mismos y se preparan un lugar de descanso: se superan a sí mismos. Amo a los que nacen de la superación y se complacen en la superación. Me encantan los ingeniosos que consumen su espíritu en la pasión: quieren sobrevivir a sí mismos y a la pasión.\n\nde|1.0|en|\nWhat is great about man is that he is a bridge and not an end: what can be loved in man is that he is a transition and a downfall. I love those who do not want to live otherwise than to perish, for they are the ascenders. I love those who jump right away to bridge the gap, and bless the downfall. I love those who kill their spirits, and praise their virtue for it—they turn around so that the truth may live beyond them. I love those who create themselves and prepare a resting place for themselves: they overcome themselves. I love those who are born of overcoming and take pleasure in overcoming. I love the witty who consume their spirit in passion: they want to survive themselves and passion.\n\nru|1.0|es|\nAquí está parado frente a ti, frente a tu cara, y sin embargo eres incapaz de entender qué hacer con él, cómo detenerlo, cómo hablarle, cómo superarlo. ¡Oh, da miedo, da miedo! Y ahora estás convencido de que estás a punto de hacer una hazaña valiente, la estrella del martirio se elevará inmediatamente en el cielo y sentirás que la ligereza desciende sobre tu corazón, como si hubieras levantado una pesada carga de tu pecho de un solo golpe, y aquí estás todo caliente, lleno de vida, colores, deleite y... Oh, Dios mío, ¿qué es?\n\nru|1.0|en|\nHere he is standing in front of you, in front of your face, and yet you are unable to understand what to do with it, how to stop it, how to talk to it, how to overcome it! Oh, it's scary, it's scary! And now you are convinced that you are about to do a courageous deed, the star of martyrdom will immediately rise in the sky, and you will feel lightness descend on your heart, as if you have lifted a heavy burden from your chest with one stroke, and here you are all hot, full of life, colors, delight, and... Oh my God, what is it?\n\nfr|1.0|es|\nCuando trabajamos por una buena causa, estamos dispuestos a sacrificarnos, porque no hay mayor felicidad que sufrir por nada. Todo está bien, digámoslo sin negación, y todo es mejor de lo que se puede desear. Nunca estuvo tan cerca el mejor de todos los mundos como en nuestro Cándido.\n\nfr|1.0|en|\nWhen we work for a good cause, we are ready to sacrifice ourselves, for there is no greater happiness than to suffer for nothing. All is well, let it be said without negation, and all is better than you can desire. Never was the best of all worlds so near as in our Candide.\n\n\n"
     ]
    }
   ],
   "source": [
    "print(descripcion)"
   ]
  },
  {
   "cell_type": "code",
   "execution_count": 0,
   "metadata": {
    "application/vnd.databricks.v1+cell": {
     "cellMetadata": {
      "byteLimit": 2048000,
      "rowLimit": 10000
     },
     "inputWidgets": {},
     "nuid": "fc700c49-69bf-463e-8f7d-4e7ee6ab1296",
     "showTitle": false,
     "title": ""
    }
   },
   "outputs": [],
   "source": [
    "#Abrimos el archivo en modo escritura con el encoding UTL-8\n",
    "with open(\"/tmp/traducciones.txt\", \"w\", encoding=\"utf-8\") as archivo:\n",
    "  #Escrimos el texto en el archivo\n",
    "  archivo.write(descripcion)"
   ]
  },
  {
   "cell_type": "code",
   "execution_count": 0,
   "metadata": {
    "application/vnd.databricks.v1+cell": {
     "cellMetadata": {
      "byteLimit": 2048000,
      "rowLimit": 10000
     },
     "inputWidgets": {},
     "nuid": "3df20690-70b2-491c-be9b-3156433cf8cf",
     "showTitle": false,
     "title": ""
    }
   },
   "outputs": [
    {
     "output_type": "display_data",
     "data": {
      "text/html": [
       "<style scoped>\n",
       "  .ansiout {\n",
       "    display: block;\n",
       "    unicode-bidi: embed;\n",
       "    white-space: pre-wrap;\n",
       "    word-wrap: break-word;\n",
       "    word-break: break-all;\n",
       "    font-family: \"Menlo\", \"Monaco\", \"Consolas\", \"Ubuntu Mono\", \"Source Code Pro\", monospace;\n",
       "    font-size: 13px;\n",
       "    color: #555;\n",
       "    margin-left: 4px;\n",
       "    line-height: 19px;\n",
       "  }\n",
       "</style>\n",
       "<div class=\"ansiout\">res0: Boolean = true\n",
       "</div>"
      ]
     },
     "metadata": {
      "application/vnd.databricks.v1+output": {
       "addedWidgets": {},
       "arguments": {},
       "data": "<div class=\"ansiout\">res0: Boolean = true\n</div>",
       "datasetInfos": [],
       "metadata": {
        "isDbfsCommandResult": false
       },
       "removedWidgets": [],
       "type": "html"
      }
     },
     "output_type": "display_data"
    }
   ],
   "source": [
    "%fs cp file:///tmp/traducciones.txt dbfs:///mnt/azure"
   ]
  }
 ],
 "metadata": {
  "application/vnd.databricks.v1+notebook": {
   "dashboards": [],
   "language": "python",
   "notebookMetadata": {
    "mostRecentlyExecutedCommandWithImplicitDF": {
     "commandId": 1007277469073480,
     "dataframes": [
      "_sqldf"
     ]
    },
    "pythonIndentUnit": 2
   },
   "notebookName": "lab84-traduccion",
   "widgets": {}
  }
 },
 "nbformat": 4,
 "nbformat_minor": 0
}
