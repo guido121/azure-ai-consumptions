{
 "cells": [
  {
   "cell_type": "code",
   "execution_count": 0,
   "metadata": {
    "application/vnd.databricks.v1+cell": {
     "cellMetadata": {
      "byteLimit": 2048000,
      "rowLimit": 10000
     },
     "inputWidgets": {},
     "nuid": "9d163c2f-95de-4ae4-a699-9c994083cd40",
     "showTitle": false,
     "title": ""
    }
   },
   "outputs": [],
   "source": [
    "#Utilitario para iniciar sesión en el servicio\n",
    "from azure.core.credentials import AzureKeyCredential\n",
    "from azure.ai.textanalytics import TextAnalyticsClient"
   ]
  },
  {
   "cell_type": "code",
   "execution_count": 0,
   "metadata": {
    "application/vnd.databricks.v1+cell": {
     "cellMetadata": {
      "byteLimit": 2048000,
      "rowLimit": 10000
     },
     "inputWidgets": {},
     "nuid": "eaa2c21f-2cd7-4639-9486-e27c05fb930b",
     "showTitle": false,
     "title": ""
    }
   },
   "outputs": [],
   "source": [
    "endpoint = \"https://languagelgprf.cognitiveservices.azure.com/\"\n",
    "clave = \"db3cffdcf03d49c7920b9bd18f33faf2\""
   ]
  },
  {
   "cell_type": "code",
   "execution_count": 0,
   "metadata": {
    "application/vnd.databricks.v1+cell": {
     "cellMetadata": {
      "byteLimit": 2048000,
      "rowLimit": 10000
     },
     "inputWidgets": {},
     "nuid": "766cd66b-34e7-4d54-b90d-6e976a470304",
     "showTitle": false,
     "title": ""
    }
   },
   "outputs": [],
   "source": [
    "servicio = TextAnalyticsClient(\n",
    "  endpoint = endpoint,\n",
    "  credential=AzureKeyCredential(clave)\n",
    ")"
   ]
  },
  {
   "cell_type": "code",
   "execution_count": 0,
   "metadata": {
    "application/vnd.databricks.v1+cell": {
     "cellMetadata": {
      "byteLimit": 2048000,
      "rowLimit": 10000
     },
     "inputWidgets": {},
     "nuid": "b7a229ca-fb12-40b7-9d39-e46cd7e93ca8",
     "showTitle": false,
     "title": ""
    }
   },
   "outputs": [],
   "source": [
    "documentos = [\n",
    "\"\"\"\n",
    "Si tienen ganas de comer unas buenas carnes a la parrilla vayan a El Hornero, este lugar es el correcto!! La comida muy buena y la atención de los mozos de primera. No es barato, pero vale la pena darse el gusto.\n",
    "\"\"\",\n",
    "\"\"\"\n",
    "Uno de nuestros preferidos es el hornero cuando se trata de comer parrillas. Atención de primera desde el ingreso. Aperitivos A1 y sobre todo los piqueos y cortes de calidad excepcional.\n",
    "\"\"\",\n",
    "\"\"\"\n",
    "Este restaurante tiene buenos detalles para empezar. Una carne exquisita y bebidas apreciables. La parrillada aconsejable para compartir: morcilla chorizo pollo, anticuchos, carne de res y de cerdo. Acompañada por patatas y ensalada. Recomendaremos al hornero con nuestros amigos.\n",
    "\"\"\"\n",
    "]"
   ]
  },
  {
   "cell_type": "code",
   "execution_count": 0,
   "metadata": {
    "application/vnd.databricks.v1+cell": {
     "cellMetadata": {
      "byteLimit": 2048000,
      "rowLimit": 10000
     },
     "inputWidgets": {},
     "nuid": "fc67bbc0-28f2-4f9a-b92f-93848b1972a8",
     "showTitle": false,
     "title": ""
    }
   },
   "outputs": [],
   "source": [
    "resultados = servicio.recognize_entities(documentos)"
   ]
  },
  {
   "cell_type": "code",
   "execution_count": 0,
   "metadata": {
    "application/vnd.databricks.v1+cell": {
     "cellMetadata": {
      "byteLimit": 2048000,
      "rowLimit": 10000
     },
     "inputWidgets": {},
     "nuid": "69d4f296-9a0a-49cd-8324-39910769cfd7",
     "showTitle": false,
     "title": ""
    }
   },
   "outputs": [
    {
     "output_type": "stream",
     "name": "stdout",
     "output_type": "stream",
     "text": [
      "Out[18]: [RecognizeEntitiesResult(id=0, entities=[CategorizedEntity(text=carnes, category=Product, subcategory=None, length=6, offset=38, confidence_score=0.9), CategorizedEntity(text=parrilla, category=Product, subcategory=None, length=8, offset=50, confidence_score=0.5), CategorizedEntity(text=El Hornero, category=Location, subcategory=None, length=10, offset=67, confidence_score=0.78), CategorizedEntity(text=comida, category=Product, subcategory=None, length=6, offset=110, confidence_score=0.77), CategorizedEntity(text=mozos, category=PersonType, subcategory=None, length=5, offset=148, confidence_score=0.53)], warnings=[], statistics=None, is_error=False, kind=EntityRecognition),\n RecognizeEntitiesResult(id=1, entities=[CategorizedEntity(text=hornero, category=Product, subcategory=None, length=7, offset=34, confidence_score=0.97), CategorizedEntity(text=parrillas, category=Product, subcategory=None, length=9, offset=67, confidence_score=0.99), CategorizedEntity(text=Atención, category=Skill, subcategory=None, length=8, offset=78, confidence_score=0.68), CategorizedEntity(text=primera, category=Quantity, subcategory=Ordinal, length=7, offset=90, confidence_score=0.64), CategorizedEntity(text=Aperitivos, category=Product, subcategory=None, length=10, offset=116, confidence_score=0.52), CategorizedEntity(text=piqueos, category=Product, subcategory=None, length=7, offset=147, confidence_score=0.88), CategorizedEntity(text=cortes, category=Product, subcategory=None, length=6, offset=157, confidence_score=0.77)], warnings=[], statistics=None, is_error=False, kind=EntityRecognition),\n RecognizeEntitiesResult(id=2, entities=[CategorizedEntity(text=restaurante, category=Location, subcategory=None, length=11, offset=6, confidence_score=0.97), CategorizedEntity(text=carne, category=Product, subcategory=None, length=5, offset=58, confidence_score=0.87), CategorizedEntity(text=bebidas, category=Product, subcategory=None, length=7, offset=76, confidence_score=0.89), CategorizedEntity(text=morcilla, category=Product, subcategory=None, length=8, offset=139, confidence_score=0.99), CategorizedEntity(text=chorizo, category=Product, subcategory=None, length=7, offset=148, confidence_score=0.96), CategorizedEntity(text=pollo, category=Product, subcategory=None, length=5, offset=156, confidence_score=0.91), CategorizedEntity(text=anticuchos, category=Product, subcategory=None, length=10, offset=163, confidence_score=0.98), CategorizedEntity(text=carne de res, category=Product, subcategory=None, length=12, offset=175, confidence_score=0.85), CategorizedEntity(text=cerdo, category=Product, subcategory=Non]"
     ]
    }
   ],
   "source": [
    "resultados"
   ]
  },
  {
   "cell_type": "code",
   "execution_count": 0,
   "metadata": {
    "application/vnd.databricks.v1+cell": {
     "cellMetadata": {
      "byteLimit": 2048000,
      "rowLimit": 10000
     },
     "inputWidgets": {},
     "nuid": "e355ebe5-582a-4c8d-ab6b-d98f4ade3105",
     "showTitle": false,
     "title": ""
    }
   },
   "outputs": [
    {
     "output_type": "stream",
     "name": "stdout",
     "output_type": "stream",
     "text": [
      "Out[19]: RecognizeEntitiesResult(id=0, entities=[CategorizedEntity(text=carnes, category=Product, subcategory=None, length=6, offset=38, confidence_score=0.9), CategorizedEntity(text=parrilla, category=Product, subcategory=None, length=8, offset=50, confidence_score=0.5), CategorizedEntity(text=El Hornero, category=Location, subcategory=None, length=10, offset=67, confidence_score=0.78), CategorizedEntity(text=comida, category=Product, subcategory=None, length=6, offset=110, confidence_score=0.77), CategorizedEntity(text=mozos, category=PersonType, subcategory=None, length=5, offset=148, confidence_score=0.53)], warnings=[], statistics=None, is_error=False, kind=EntityRecognition)"
     ]
    }
   ],
   "source": [
    "resultados[0]"
   ]
  },
  {
   "cell_type": "code",
   "execution_count": 0,
   "metadata": {
    "application/vnd.databricks.v1+cell": {
     "cellMetadata": {
      "byteLimit": 2048000,
      "rowLimit": 10000
     },
     "inputWidgets": {},
     "nuid": "f5b9e958-efca-4e83-b4e6-8932f6096ea7",
     "showTitle": false,
     "title": ""
    }
   },
   "outputs": [
    {
     "output_type": "stream",
     "name": "stdout",
     "output_type": "stream",
     "text": [
      "Out[20]: CategorizedEntity(text=carnes, category=Product, subcategory=None, length=6, offset=38, confidence_score=0.9)"
     ]
    }
   ],
   "source": [
    "resultados[0][\"entities\"][0]"
   ]
  },
  {
   "cell_type": "code",
   "execution_count": 0,
   "metadata": {
    "application/vnd.databricks.v1+cell": {
     "cellMetadata": {
      "byteLimit": 2048000,
      "rowLimit": 10000
     },
     "inputWidgets": {},
     "nuid": "c191562b-541b-48ae-981f-75e9e96bc6a5",
     "showTitle": false,
     "title": ""
    }
   },
   "outputs": [
    {
     "output_type": "stream",
     "name": "stdout",
     "output_type": "stream",
     "text": [
      "0|carnes|Product|None|0.9\n"
     ]
    }
   ],
   "source": [
    "linea = (\n",
    "  str(resultados[0][\"id\"]) + \"|\" +\n",
    "  str(resultados[0][\"entities\"][0][\"text\"]) + \"|\" +\n",
    "  str(resultados[0][\"entities\"][0][\"category\"]) + \"|\" +\n",
    "  str(resultados[0][\"entities\"][0][\"subcategory\"]) + \"|\" +\n",
    "  str(resultados[0][\"entities\"][0][\"confidence_score\"])\n",
    ")\n",
    "print(linea)"
   ]
  },
  {
   "cell_type": "code",
   "execution_count": 0,
   "metadata": {
    "application/vnd.databricks.v1+cell": {
     "cellMetadata": {
      "byteLimit": 2048000,
      "rowLimit": 10000
     },
     "inputWidgets": {},
     "nuid": "8d6dc979-6ad5-4b4d-a506-dacfa0f89a29",
     "showTitle": false,
     "title": ""
    }
   },
   "outputs": [],
   "source": [
    "descripcion = \"\""
   ]
  },
  {
   "cell_type": "code",
   "execution_count": 0,
   "metadata": {
    "application/vnd.databricks.v1+cell": {
     "cellMetadata": {
      "byteLimit": 2048000,
      "rowLimit": 10000
     },
     "inputWidgets": {},
     "nuid": "9954ff01-90a2-419d-a69c-50449fc26f53",
     "showTitle": false,
     "title": ""
    }
   },
   "outputs": [
    {
     "output_type": "stream",
     "name": "stdout",
     "output_type": "stream",
     "text": [
      "0|carnes|Product|None|0.9\n0|parrilla|Product|None|0.5\n0|El Hornero|Location|None|0.78\n0|comida|Product|None|0.77\n0|mozos|PersonType|None|0.53\n1|hornero|Product|None|0.97\n1|parrillas|Product|None|0.99\n1|Atención|Skill|None|0.68\n1|primera|Quantity|Ordinal|0.64\n1|Aperitivos|Product|None|0.52\n1|piqueos|Product|None|0.88\n1|cortes|Product|None|0.77\n2|restaurante|Location|None|0.97\n2|carne|Product|None|0.87\n2|bebidas|Product|None|0.89\n2|morcilla|Product|None|0.99\n2|chorizo|Product|None|0.96\n2|pollo|Product|None|0.91\n2|anticuchos|Product|None|0.98\n2|carne de res|Product|None|0.85\n2|cerdo|Product|None|0.83\n2|patatas|Product|None|1.0\n2|ensalada|Product|None|1.0\n2|hornero|Product|None|0.58\n2|amigos|PersonType|None|0.96\n"
     ]
    }
   ],
   "source": [
    "for resultado in resultados:\n",
    "  for entidad in resultado[\"entities\"]:\n",
    "    linea = (\n",
    "    str(resultado[\"id\"]) + \"|\" +\n",
    "    str(entidad[\"text\"]) + \"|\" +\n",
    "    str(entidad[\"category\"]) + \"|\" +\n",
    "    str(entidad[\"subcategory\"]) + \"|\" +\n",
    "    str(entidad[\"confidence_score\"])\n",
    "    )\n",
    "    print(linea)\n",
    "    descripcion = descripcion + linea + \"\\n\"\n",
    "    "
   ]
  },
  {
   "cell_type": "code",
   "execution_count": 0,
   "metadata": {
    "application/vnd.databricks.v1+cell": {
     "cellMetadata": {
      "byteLimit": 2048000,
      "rowLimit": 10000
     },
     "inputWidgets": {},
     "nuid": "1751ebc1-b604-4819-aecb-5201fe5e4b0b",
     "showTitle": false,
     "title": ""
    }
   },
   "outputs": [],
   "source": [
    "descripcion = \"DOCUMENTO|ENTIDAD|CATEGORIA|SUBCATEGORIA|PROBABILIDAD\" + \"\\n\"+ descripcion"
   ]
  },
  {
   "cell_type": "code",
   "execution_count": 0,
   "metadata": {
    "application/vnd.databricks.v1+cell": {
     "cellMetadata": {
      "byteLimit": 2048000,
      "rowLimit": 10000
     },
     "inputWidgets": {},
     "nuid": "268649f0-67a7-4a85-8f95-a195115d8978",
     "showTitle": false,
     "title": ""
    }
   },
   "outputs": [
    {
     "output_type": "stream",
     "name": "stdout",
     "output_type": "stream",
     "text": [
      "DOCUMENTO|ENTIDAD|CATEGORIA|SUBCATEGORIA|PROBABILIDAD\n0|carnes|Product|None|0.9\n0|parrilla|Product|None|0.5\n0|El Hornero|Location|None|0.78\n0|comida|Product|None|0.77\n0|mozos|PersonType|None|0.53\n1|hornero|Product|None|0.97\n1|parrillas|Product|None|0.99\n1|Atención|Skill|None|0.68\n1|primera|Quantity|Ordinal|0.64\n1|Aperitivos|Product|None|0.52\n1|piqueos|Product|None|0.88\n1|cortes|Product|None|0.77\n2|restaurante|Location|None|0.97\n2|carne|Product|None|0.87\n2|bebidas|Product|None|0.89\n2|morcilla|Product|None|0.99\n2|chorizo|Product|None|0.96\n2|pollo|Product|None|0.91\n2|anticuchos|Product|None|0.98\n2|carne de res|Product|None|0.85\n2|cerdo|Product|None|0.83\n2|patatas|Product|None|1.0\n2|ensalada|Product|None|1.0\n2|hornero|Product|None|0.58\n2|amigos|PersonType|None|0.96\n\n"
     ]
    }
   ],
   "source": [
    "print(descripcion)"
   ]
  },
  {
   "cell_type": "code",
   "execution_count": 0,
   "metadata": {
    "application/vnd.databricks.v1+cell": {
     "cellMetadata": {
      "byteLimit": 2048000,
      "rowLimit": 10000
     },
     "inputWidgets": {},
     "nuid": "39c2dd5d-5654-4ac5-b7a4-2b60bfbf70e6",
     "showTitle": false,
     "title": ""
    }
   },
   "outputs": [],
   "source": [
    "with open(\"/tmp/reconocimiento_de_entidades.txt\",\"w\", encoding=\"utf-8\") as archivo:\n",
    "  #Escribimos el texto en el archivo\n",
    "  archivo.write(descripcion)\n",
    "  "
   ]
  },
  {
   "cell_type": "code",
   "execution_count": 0,
   "metadata": {
    "application/vnd.databricks.v1+cell": {
     "cellMetadata": {
      "byteLimit": 2048000,
      "rowLimit": 10000
     },
     "inputWidgets": {},
     "nuid": "7c9f5e96-b177-420a-9e74-b96c73aca71f",
     "showTitle": false,
     "title": ""
    }
   },
   "outputs": [
    {
     "output_type": "display_data",
     "data": {
      "text/html": [
       "<style scoped>\n",
       "  .ansiout {\n",
       "    display: block;\n",
       "    unicode-bidi: embed;\n",
       "    white-space: pre-wrap;\n",
       "    word-wrap: break-word;\n",
       "    word-break: break-all;\n",
       "    font-family: \"Menlo\", \"Monaco\", \"Consolas\", \"Ubuntu Mono\", \"Source Code Pro\", monospace;\n",
       "    font-size: 13px;\n",
       "    color: #555;\n",
       "    margin-left: 4px;\n",
       "    line-height: 19px;\n",
       "  }\n",
       "</style>\n",
       "<div class=\"ansiout\">res2: Boolean = true\n",
       "</div>"
      ]
     },
     "metadata": {
      "application/vnd.databricks.v1+output": {
       "addedWidgets": {},
       "arguments": {},
       "data": "<div class=\"ansiout\">res2: Boolean = true\n</div>",
       "datasetInfos": [],
       "metadata": {
        "isDbfsCommandResult": false
       },
       "removedWidgets": [],
       "type": "html"
      }
     },
     "output_type": "display_data"
    }
   ],
   "source": [
    "%fs cp file:///tmp/reconocimiento_de_entidades.txt dbfs:///mnt/azure"
   ]
  }
 ],
 "metadata": {
  "application/vnd.databricks.v1+notebook": {
   "dashboards": [],
   "language": "python",
   "notebookMetadata": {
    "mostRecentlyExecutedCommandWithImplicitDF": {
     "commandId": 2931960096162224,
     "dataframes": [
      "_sqldf"
     ]
    },
    "pythonIndentUnit": 2
   },
   "notebookName": "lab73-reconocimiento de entidades",
   "widgets": {}
  }
 },
 "nbformat": 4,
 "nbformat_minor": 0
}
