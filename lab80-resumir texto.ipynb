{
 "cells": [
  {
   "cell_type": "code",
   "execution_count": 0,
   "metadata": {
    "application/vnd.databricks.v1+cell": {
     "cellMetadata": {
      "byteLimit": 2048000,
      "rowLimit": 10000
     },
     "inputWidgets": {},
     "nuid": "65d94ad2-1e5f-422a-866c-bfba118236e7",
     "showTitle": false,
     "title": ""
    }
   },
   "outputs": [],
   "source": [
    "#Utilitario para iniciar sesión en el servicio\n",
    "from azure.core.credentials import AzureKeyCredential\n",
    "from azure.ai.textanalytics import TextAnalyticsClient"
   ]
  },
  {
   "cell_type": "code",
   "execution_count": 0,
   "metadata": {
    "application/vnd.databricks.v1+cell": {
     "cellMetadata": {
      "byteLimit": 2048000,
      "rowLimit": 10000
     },
     "inputWidgets": {},
     "nuid": "13c5a807-b5a3-4388-8226-260ae8252580",
     "showTitle": false,
     "title": ""
    }
   },
   "outputs": [],
   "source": [
    "endpoint = \"https://languagelgprf.cognitiveservices.azure.com/\"\n",
    "clave = \"db3cffdcf03d49c7920b9bd18f33faf2\""
   ]
  },
  {
   "cell_type": "code",
   "execution_count": 0,
   "metadata": {
    "application/vnd.databricks.v1+cell": {
     "cellMetadata": {
      "byteLimit": 2048000,
      "rowLimit": 10000
     },
     "inputWidgets": {},
     "nuid": "fedfe2a3-2519-4f17-9c80-f8d765ddfddf",
     "showTitle": false,
     "title": ""
    }
   },
   "outputs": [],
   "source": [
    "servicio = TextAnalyticsClient(\n",
    "  endpoint = endpoint,\n",
    "  credential=AzureKeyCredential(clave)\n",
    ")"
   ]
  },
  {
   "cell_type": "code",
   "execution_count": 0,
   "metadata": {
    "application/vnd.databricks.v1+cell": {
     "cellMetadata": {
      "byteLimit": 2048000,
      "rowLimit": 10000
     },
     "inputWidgets": {},
     "nuid": "577d986c-6a07-48d7-bce6-8942619be8ac",
     "showTitle": false,
     "title": ""
    }
   },
   "outputs": [],
   "source": [
    "documentos = [\n",
    "\"\"\"\n",
    "En el año 2029, después de devastar la Tierra y esclavizar a la humanidad, las máquinas, gobernadas por la inteligencia artificial conocida como Skynet, están a punto de perder la guerra contra la resistencia humana liderada por John Connor. Frente a esa situación las máquinas entienden que asesinar a John Connor en el presente sería irrelevante, dado que ya ha conducido a la resistencia humana a la victoria. Por lo tanto, Skynet elabora su estrategia decidiendo eliminar al líder enemigo antes de que este nazca. Para ello envían al año 1984 a un Terminator T-800 modelo Cyberdyne 101 (Arnold Schwarzenegger), a través de una máquina del tiempo, con la misión de exterminar a Sarah Connor (Linda Hamilton), madre de John, evitando que este sea concebido.\n",
    "\"\"\",\n",
    "\"\"\"\n",
    "Thomas Anderson (Keanu Reeves) es programador informático de día y un hacker llamado Neo de noche. Lleva toda su vida intuyendo que hay algo más, que hay algo que falla y esa duda se ve reafirmada con un mensaje recibido en su ordenador: «Matrix te posee». Así, Neo comienza la búsqueda desesperada de una persona de la que solo ha oído hablar: otro hacker llamado Morfeo (Laurence Fishburne), alguien que puede darle la respuesta a las preguntas que persigue: ¿Qué es Matrix? y ¿por qué lo posee a él?3​ Morfeo y su equipo, al darse cuenta de que sus enemigos están buscando a Neo, deciden entrar en contacto con él. La hacker Trinity (Carrie-Anne Moss), amiga de Morfeo, lo conduce hasta él y la respuesta que busca. Pero para obtenerla debe renunciar a su vida anterior y a todo lo que había conocido antes. El símbolo de dicho proceso es aceptar tomar una píldora roja; en cambio, la píldora azul podría devolverlo a su mundo actual sin que, aparentemente, nada de lo que está sucediendo hubiera pasado. Neo acepta tomar la pastilla roja, olvidar su vida y todo lo que conoce para descubrir «qué es Matrix».\n",
    "\"\"\",\n",
    "\"\"\"\n",
    "En el año 2035, en la ciudad de Chicago, los robots humanoides forman parte de la vida cotidiana en la Tierra y son la principal fuerza laboral de la especie humana, trabajando con seguridad gracias a las tres leyes de la robótica. La compañía dedicada al diseño, construcción y venta de robots es U.S. Robots and Mechanical Men. La empresa tiene previsto el lanzamiento de un nuevo modelo de robot: los NS-5. No obstante, el detective Del Spooner (Will Smith) es un hombre que odia a los robots, ya que él sospecha que los robots no funcionan bajo las tres leyes de la robótica. Además, es un amante del pasado, usando aún una motocicleta a gasolina, unos tenis deportivos de principios del siglo xxi y un equipo de música muy antiguo (para la época en la que está).\n",
    "\"\"\"\n",
    "]"
   ]
  },
  {
   "cell_type": "code",
   "execution_count": 0,
   "metadata": {
    "application/vnd.databricks.v1+cell": {
     "cellMetadata": {
      "byteLimit": 2048000,
      "rowLimit": 10000
     },
     "inputWidgets": {},
     "nuid": "6846ad3b-7a48-476e-8d6e-452f62d1172a",
     "showTitle": false,
     "title": ""
    }
   },
   "outputs": [],
   "source": [
    "# \n",
    "consulta = servicio.begin_extract_summary(documentos)"
   ]
  },
  {
   "cell_type": "code",
   "execution_count": 0,
   "metadata": {
    "application/vnd.databricks.v1+cell": {
     "cellMetadata": {
      "byteLimit": 2048000,
      "rowLimit": 10000
     },
     "inputWidgets": {},
     "nuid": "c9802f0e-de4b-4a06-8285-7e5958e5d9a6",
     "showTitle": false,
     "title": ""
    }
   },
   "outputs": [],
   "source": [
    "iterador =  consulta.result()"
   ]
  },
  {
   "cell_type": "code",
   "execution_count": 0,
   "metadata": {
    "application/vnd.databricks.v1+cell": {
     "cellMetadata": {
      "byteLimit": 2048000,
      "rowLimit": 10000
     },
     "inputWidgets": {},
     "nuid": "03fb726e-3404-483f-bc5a-654e0c63fd34",
     "showTitle": false,
     "title": ""
    }
   },
   "outputs": [],
   "source": [
    "resultados = []"
   ]
  },
  {
   "cell_type": "code",
   "execution_count": 0,
   "metadata": {
    "application/vnd.databricks.v1+cell": {
     "cellMetadata": {
      "byteLimit": 2048000,
      "rowLimit": 10000
     },
     "inputWidgets": {},
     "nuid": "3bb2793e-6584-4c42-a551-c1f89ca9a692",
     "showTitle": false,
     "title": ""
    }
   },
   "outputs": [],
   "source": [
    "for elemento in iterador:\n",
    "  resultados.append(elemento)\n"
   ]
  },
  {
   "cell_type": "code",
   "execution_count": 0,
   "metadata": {
    "application/vnd.databricks.v1+cell": {
     "cellMetadata": {
      "byteLimit": 2048000,
      "rowLimit": 10000
     },
     "inputWidgets": {},
     "nuid": "6400cf5a-7d8f-4ada-92f2-0b24ec06bc0e",
     "showTitle": false,
     "title": ""
    }
   },
   "outputs": [
    {
     "output_type": "stream",
     "name": "stdout",
     "output_type": "stream",
     "text": [
      "Out[9]: ExtractiveSummaryResult(id=1, sentences=[SummarySentence(text=Thomas Anderson (Keanu Reeves) es programador informático de día y un hacker llamado Neo de noche., rank_score=0.75, offset=1, length=98), SummarySentence(text=y ¿por qué lo posee a él?3​ Morfeo y su equipo, al darse cuenta de que sus enemigos están buscando a Neo, deciden entrar en contacto con él., rank_score=0.64, offset=478, length=140), SummarySentence(text=Neo acepta tomar la pastilla roja, olvidar su vida y todo lo que conoce para descubrir «qué es Matrix»., rank_score=1.0, offset=1009, length=103)], warnings=[], statistics=None,  is_error=False, kind=ExtractiveSummarization)"
     ]
    }
   ],
   "source": [
    "resultados[1]"
   ]
  },
  {
   "cell_type": "code",
   "execution_count": 0,
   "metadata": {
    "application/vnd.databricks.v1+cell": {
     "cellMetadata": {
      "byteLimit": 2048000,
      "rowLimit": 10000
     },
     "inputWidgets": {},
     "nuid": "b8b1bb49-82dc-413a-aa8a-6fa4946310a3",
     "showTitle": false,
     "title": ""
    }
   },
   "outputs": [],
   "source": [
    "for elemento in iterador:\n",
    "  resultados.append(elemento)\n"
   ]
  },
  {
   "cell_type": "code",
   "execution_count": 0,
   "metadata": {
    "application/vnd.databricks.v1+cell": {
     "cellMetadata": {
      "byteLimit": 2048000,
      "rowLimit": 10000
     },
     "inputWidgets": {},
     "nuid": "92a4be05-0816-443c-b05d-6b6f7f922d1e",
     "showTitle": false,
     "title": ""
    }
   },
   "outputs": [],
   "source": [
    "descripcion = \"\""
   ]
  },
  {
   "cell_type": "code",
   "execution_count": 0,
   "metadata": {
    "application/vnd.databricks.v1+cell": {
     "cellMetadata": {
      "byteLimit": 2048000,
      "rowLimit": 10000
     },
     "inputWidgets": {},
     "nuid": "09eea8f4-5b6e-4f1a-a1ff-295df027f5a5",
     "showTitle": false,
     "title": ""
    }
   },
   "outputs": [
    {
     "output_type": "stream",
     "name": "stdout",
     "output_type": "stream",
     "text": [
      "0|En el año 2029, después de devastar la Tierra y esclavizar a la humanidad, las máquinas, gobernadas por la inteligencia artificial conocida como Skynet, están a punto de perder la guerra contra la resistencia humana liderada por John Connor. Frente a esa situación las máquinas entienden que asesinar a John Connor en el presente sería irrelevante, dado que ya ha conducido a la resistencia humana a la victoria. Por lo tanto, Skynet elabora su estrategia decidiendo eliminar al líder enemigo antes de que este nazca. \n1|Thomas Anderson (Keanu Reeves) es programador informático de día y un hacker llamado Neo de noche. y ¿por qué lo posee a él?3​ Morfeo y su equipo, al darse cuenta de que sus enemigos están buscando a Neo, deciden entrar en contacto con él. Neo acepta tomar la pastilla roja, olvidar su vida y todo lo que conoce para descubrir «qué es Matrix». \n2|En el año 2035, en la ciudad de Chicago, los robots humanoides forman parte de la vida cotidiana en la Tierra y son la principal fuerza laboral de la especie humana, trabajando con seguridad gracias a las tres leyes de la robótica. La empresa tiene previsto el lanzamiento de un nuevo modelo de robot: los NS-5. No obstante, el detective Del Spooner (Will Smith) es un hombre que odia a los robots, ya que él sospecha que los robots no funcionan bajo las tres leyes de la robótica. \n"
     ]
    }
   ],
   "source": [
    "for resultado in resultados:\n",
    "  linea = str(resultado[\"id\"]) + \"|\"\n",
    "  for oracion in resultado[\"sentences\"]:\n",
    "    linea = linea + str(oracion[\"text\"]) + \" \"\n",
    "  descripcion = descripcion + linea + \"\\n\"\n",
    "  print(linea)"
   ]
  },
  {
   "cell_type": "code",
   "execution_count": 0,
   "metadata": {
    "application/vnd.databricks.v1+cell": {
     "cellMetadata": {
      "byteLimit": 2048000,
      "rowLimit": 10000
     },
     "inputWidgets": {},
     "nuid": "8c5d59c3-5f40-4270-8d72-8ec5cf7080dc",
     "showTitle": false,
     "title": ""
    }
   },
   "outputs": [],
   "source": [
    "descripcion = \"DOCUMENTO|SUMARIZACION\" + \"\\n\" + descripcion"
   ]
  },
  {
   "cell_type": "code",
   "execution_count": 0,
   "metadata": {
    "application/vnd.databricks.v1+cell": {
     "cellMetadata": {
      "byteLimit": 2048000,
      "rowLimit": 10000
     },
     "inputWidgets": {},
     "nuid": "c30ba6d2-27f3-4272-a806-5669317f3735",
     "showTitle": false,
     "title": ""
    }
   },
   "outputs": [
    {
     "output_type": "stream",
     "name": "stdout",
     "output_type": "stream",
     "text": [
      "DOCUMENTO|SUMARIZACION\n0|En el año 2029, después de devastar la Tierra y esclavizar a la humanidad, las máquinas, gobernadas por la inteligencia artificial conocida como Skynet, están a punto de perder la guerra contra la resistencia humana liderada por John Connor. Frente a esa situación las máquinas entienden que asesinar a John Connor en el presente sería irrelevante, dado que ya ha conducido a la resistencia humana a la victoria. Por lo tanto, Skynet elabora su estrategia decidiendo eliminar al líder enemigo antes de que este nazca. \n1|Thomas Anderson (Keanu Reeves) es programador informático de día y un hacker llamado Neo de noche. y ¿por qué lo posee a él?3​ Morfeo y su equipo, al darse cuenta de que sus enemigos están buscando a Neo, deciden entrar en contacto con él. Neo acepta tomar la pastilla roja, olvidar su vida y todo lo que conoce para descubrir «qué es Matrix». \n2|En el año 2035, en la ciudad de Chicago, los robots humanoides forman parte de la vida cotidiana en la Tierra y son la principal fuerza laboral de la especie humana, trabajando con seguridad gracias a las tres leyes de la robótica. La empresa tiene previsto el lanzamiento de un nuevo modelo de robot: los NS-5. No obstante, el detective Del Spooner (Will Smith) es un hombre que odia a los robots, ya que él sospecha que los robots no funcionan bajo las tres leyes de la robótica. \n\n"
     ]
    }
   ],
   "source": [
    "print(descripcion)"
   ]
  },
  {
   "cell_type": "code",
   "execution_count": 0,
   "metadata": {
    "application/vnd.databricks.v1+cell": {
     "cellMetadata": {
      "byteLimit": 2048000,
      "rowLimit": 10000
     },
     "inputWidgets": {},
     "nuid": "7799a79b-a383-4719-b9a3-f56d2535f2de",
     "showTitle": false,
     "title": ""
    }
   },
   "outputs": [],
   "source": [
    "with open(\"/tmp/sumarizacion.txt\", \"w\", encoding=\"utf-8\") as archivo:\n",
    "  #Escribimos el texto en el archivo\n",
    "  archivo.write(descripcion)"
   ]
  },
  {
   "cell_type": "code",
   "execution_count": 0,
   "metadata": {
    "application/vnd.databricks.v1+cell": {
     "cellMetadata": {
      "byteLimit": 2048000,
      "rowLimit": 10000
     },
     "inputWidgets": {},
     "nuid": "050602a3-6974-47e5-91fd-02596b7f9a2b",
     "showTitle": false,
     "title": ""
    }
   },
   "outputs": [
    {
     "output_type": "display_data",
     "data": {
      "text/html": [
       "<style scoped>\n",
       "  .ansiout {\n",
       "    display: block;\n",
       "    unicode-bidi: embed;\n",
       "    white-space: pre-wrap;\n",
       "    word-wrap: break-word;\n",
       "    word-break: break-all;\n",
       "    font-family: \"Menlo\", \"Monaco\", \"Consolas\", \"Ubuntu Mono\", \"Source Code Pro\", monospace;\n",
       "    font-size: 13px;\n",
       "    color: #555;\n",
       "    margin-left: 4px;\n",
       "    line-height: 19px;\n",
       "  }\n",
       "</style>\n",
       "<div class=\"ansiout\">res0: Boolean = true\n",
       "</div>"
      ]
     },
     "metadata": {
      "application/vnd.databricks.v1+output": {
       "addedWidgets": {},
       "arguments": {},
       "data": "<div class=\"ansiout\">res0: Boolean = true\n</div>",
       "datasetInfos": [],
       "metadata": {
        "isDbfsCommandResult": false
       },
       "removedWidgets": [],
       "type": "html"
      }
     },
     "output_type": "display_data"
    }
   ],
   "source": [
    "%fs cp file:///tmp/sumarizacion.txt dbfs:///mnt/azure"
   ]
  }
 ],
 "metadata": {
  "application/vnd.databricks.v1+notebook": {
   "dashboards": [],
   "language": "python",
   "notebookMetadata": {
    "mostRecentlyExecutedCommandWithImplicitDF": {
     "commandId": 363143525981223,
     "dataframes": [
      "_sqldf"
     ]
    },
    "pythonIndentUnit": 2
   },
   "notebookName": "lab80-resumir texto",
   "widgets": {}
  }
 },
 "nbformat": 4,
 "nbformat_minor": 0
}
