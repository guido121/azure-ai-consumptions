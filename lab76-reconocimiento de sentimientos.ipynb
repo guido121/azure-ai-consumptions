{
 "cells": [
  {
   "cell_type": "code",
   "execution_count": 0,
   "metadata": {
    "application/vnd.databricks.v1+cell": {
     "cellMetadata": {
      "byteLimit": 2048000,
      "rowLimit": 10000
     },
     "inputWidgets": {},
     "nuid": "ce4c16bc-7834-4acf-a6f8-171d75fad2d7",
     "showTitle": false,
     "title": ""
    }
   },
   "outputs": [],
   "source": [
    "#Utilitario para iniciar sesión en el servicio\n",
    "from azure.core.credentials import AzureKeyCredential\n",
    "from azure.ai.textanalytics import TextAnalyticsClient"
   ]
  },
  {
   "cell_type": "code",
   "execution_count": 0,
   "metadata": {
    "application/vnd.databricks.v1+cell": {
     "cellMetadata": {
      "byteLimit": 2048000,
      "rowLimit": 10000
     },
     "inputWidgets": {},
     "nuid": "2804d37b-e111-489d-ba98-d06369c640a3",
     "showTitle": false,
     "title": ""
    }
   },
   "outputs": [],
   "source": [
    "endpoint = \"https://languagelgprf.cognitiveservices.azure.com/\"\n",
    "clave = \"db3cffdcf03d49c7920b9bd18f33faf2\""
   ]
  },
  {
   "cell_type": "code",
   "execution_count": 0,
   "metadata": {
    "application/vnd.databricks.v1+cell": {
     "cellMetadata": {
      "byteLimit": 2048000,
      "rowLimit": 10000
     },
     "inputWidgets": {},
     "nuid": "e56bb331-b0ee-4854-a911-fac3cfc3d669",
     "showTitle": false,
     "title": ""
    }
   },
   "outputs": [],
   "source": [
    "servicio = TextAnalyticsClient(\n",
    "  endpoint = endpoint,\n",
    "  credential=AzureKeyCredential(clave)\n",
    ")"
   ]
  },
  {
   "cell_type": "code",
   "execution_count": 0,
   "metadata": {
    "application/vnd.databricks.v1+cell": {
     "cellMetadata": {
      "byteLimit": 2048000,
      "rowLimit": 10000
     },
     "inputWidgets": {},
     "nuid": "9157e984-3954-4ae2-b791-dee1edadcf24",
     "showTitle": false,
     "title": ""
    }
   },
   "outputs": [],
   "source": [
    "documentos = [\n",
    "\"\"\"\n",
    "El Comelón ofrece una experiencia gastronómica excepcional. La variedad de platos en el menú es impresionante, y la calidad de la comida es siempre excepcional. Cada bocado es una explosión de sabores que demuestra la maestría culinaria del chef. Recomiendo encarecidamente probar sus especialidades, ¡te sorprenderán gratamente!\n",
    "\"\"\",\n",
    "\"\"\"\n",
    "Lo que destaca de El Comelón, además de su deliciosa comida, es el ambiente acogedor y el servicio amable. El personal siempre está dispuesto a hacer recomendaciones y asegurarse de que la experiencia sea placentera. Ya sea una comida íntima o una celebración, este restaurante crea el entorno perfecto para disfrutar de una buena comida.\n",
    "\"\"\",\n",
    "\"\"\"\n",
    "La comida en El Comelón es buena, pero en varias ocasiones he experimentado tiempos de espera un poco prolongados, especialmente durante las horas pico. Si bien la calidad de la comida hace que la espera valga la pena, es algo a tener en cuenta si tienes poco tiempo.\n",
    "\"\"\",\n",
    "\"\"\"\n",
    "El restaurante tiene una decoración sencilla y no cuenta con grandes atractivos visuales. Si bien esto puede no ser un problema para aquellos que buscan principalmente una experiencia culinaria, algunos podrían desear una atmósfera más elaborada para complementar la excelente comida.\n",
    "\"\"\",\n",
    "\"\"\"\n",
    "Lamentablemente, he experimentado cierta inconsistencia en la calidad de la comida en El Comelón. En algunas visitas, los platos son deliciosos y bien preparados, pero en otras ocasiones la calidad no está a la altura de las expectativas. Esto puede ser frustrante para los clientes regulares.\n",
    "\"\"\",\n",
    "\"\"\"\n",
    "Mi experiencia con la atención al cliente en El Comelón no ha sido la mejor. En varias ocasiones, he notado que el personal parece desatento y poco comprometido con brindar un servicio excepcional. Esto afecta negativamente la experiencia general en el restaurante.\n",
    "\"\"\"\n",
    "]"
   ]
  },
  {
   "cell_type": "code",
   "execution_count": 0,
   "metadata": {
    "application/vnd.databricks.v1+cell": {
     "cellMetadata": {
      "byteLimit": 2048000,
      "rowLimit": 10000
     },
     "inputWidgets": {},
     "nuid": "5b94fecd-c0f7-463d-a919-79bc696fdeb8",
     "showTitle": false,
     "title": ""
    }
   },
   "outputs": [],
   "source": [
    "resultados = servicio.analyze_sentiment(documentos)"
   ]
  },
  {
   "cell_type": "code",
   "execution_count": 0,
   "metadata": {
    "application/vnd.databricks.v1+cell": {
     "cellMetadata": {
      "byteLimit": 2048000,
      "rowLimit": 10000
     },
     "inputWidgets": {},
     "nuid": "aa90556a-1729-4c90-8960-3364ac910ff5",
     "showTitle": false,
     "title": ""
    }
   },
   "outputs": [
    {
     "output_type": "stream",
     "name": "stdout",
     "output_type": "stream",
     "text": [
      "Out[7]: AnalyzeSentimentResult(id=0, sentiment=positive, warnings=[], statistics=None, confidence_scores=SentimentConfidenceScores(positive=0.97, neutral=0.03, negative=0.0), sentences=[SentenceSentiment(text= El Comelón ofrece una experiencia gastronómica excepcional. , sentiment=neutral, confidence_scores=SentimentConfidenceScores(positive=0.27, neutral=0.71, negative=0.02), length=61, offset=0, mined_opinions=[]), SentenceSentiment(text=La variedad de platos en el menú es impresionante, y la calidad de la comida es siempre excepcional. , sentiment=positive, confidence_scores=SentimentConfidenceScores(positive=0.96, neutral=0.04, negative=0.0), length=101, offset=61, mined_opinions=[]), SentenceSentiment(text=Cada bocado es una explosión de sabores que demuestra la maestría culinaria del chef. , sentiment=neutral, confidence_scores=SentimentConfidenceScores(positive=0.4, neutral=0.58, negative=0.02), length=86, offset=162, mined_opinions=[]), SentenceSentiment(text=Recomiendo encarecidamente probar sus especialidad"
     ]
    }
   ],
   "source": [
    "resultados[0]"
   ]
  },
  {
   "cell_type": "code",
   "execution_count": 0,
   "metadata": {
    "application/vnd.databricks.v1+cell": {
     "cellMetadata": {
      "byteLimit": 2048000,
      "rowLimit": 10000
     },
     "inputWidgets": {},
     "nuid": "98d1e4ee-aa2b-4198-87ba-05ec0b81973e",
     "showTitle": false,
     "title": ""
    }
   },
   "outputs": [
    {
     "output_type": "stream",
     "name": "stdout",
     "output_type": "stream",
     "text": [
      "0| El Comelón ofrece una experiencia gastronómica excepcional. |neutral|0.27|0.71|0.02\n"
     ]
    }
   ],
   "source": [
    "#Definimos la linea\n",
    "lineaOracion = (\n",
    "  str(resultados[0][\"id\"]) + \"|\" +\n",
    "  str(resultados[0][\"sentences\"][0][\"text\"]) + \"|\" +\n",
    "  str(resultados[0][\"sentences\"][0][\"sentiment\"]) + \"|\" +\n",
    "  str(resultados[0][\"sentences\"][0][\"confidence_scores\"][\"positive\"]) + \"|\" +\n",
    "  str(resultados[0][\"sentences\"][0][\"confidence_scores\"][\"neutral\"]) + \"|\" +\n",
    "  str(resultados[0][\"sentences\"][0][\"confidence_scores\"][\"negative\"])\n",
    ")\n",
    "\n",
    "print(lineaOracion)"
   ]
  },
  {
   "cell_type": "code",
   "execution_count": 0,
   "metadata": {
    "application/vnd.databricks.v1+cell": {
     "cellMetadata": {
      "byteLimit": 2048000,
      "rowLimit": 10000
     },
     "inputWidgets": {},
     "nuid": "dd67a0de-eee9-4f6c-a0de-8f2b92b07b49",
     "showTitle": false,
     "title": ""
    }
   },
   "outputs": [],
   "source": [
    "#Acumulamos el analissi de cada documento\n",
    "descripcionDocumento = \"\""
   ]
  },
  {
   "cell_type": "code",
   "execution_count": 0,
   "metadata": {
    "application/vnd.databricks.v1+cell": {
     "cellMetadata": {
      "byteLimit": 2048000,
      "rowLimit": 10000
     },
     "inputWidgets": {},
     "nuid": "d6644e01-fc05-432e-b4f7-4a5d6f2e6696",
     "showTitle": false,
     "title": ""
    }
   },
   "outputs": [
    {
     "output_type": "stream",
     "name": "stdout",
     "output_type": "stream",
     "text": [
      "0|positive|0.97|0.03|0.0\n1|positive|0.9|0.1|0.01\n2|neutral|0.34|0.49|0.17\n3|mixed|0.32|0.35|0.32\n4|negative|0.1|0.12|0.78\n5|negative|0.01|0.11|0.89\n"
     ]
    }
   ],
   "source": [
    "for resultado in resultados:\n",
    "  lineaDocumento = (\n",
    "    str(resultado[\"id\"]) + \"|\" +\n",
    "    str(resultado[\"sentiment\"]) + \"|\" +\n",
    "    str(resultado[\"confidence_scores\"][\"positive\"]) + \"|\" +\n",
    "    str(resultado[\"confidence_scores\"][\"neutral\"]) + \"|\" +\n",
    "    str(resultado[\"confidence_scores\"][\"negative\"])\n",
    "  )\n",
    "  print(lineaDocumento)\n",
    "  descripcionDocumento = descripcionDocumento + lineaDocumento + \"\\n\""
   ]
  },
  {
   "cell_type": "code",
   "execution_count": 0,
   "metadata": {
    "application/vnd.databricks.v1+cell": {
     "cellMetadata": {
      "byteLimit": 2048000,
      "rowLimit": 10000
     },
     "inputWidgets": {},
     "nuid": "44e70882-4389-46df-a18f-952b5bc2beba",
     "showTitle": false,
     "title": ""
    }
   },
   "outputs": [],
   "source": [
    "#Le agregamos una cabecera\n",
    "descripcionDocumento = \"DOCUMENTO|SENTIMIENTO|POSITIVO|NEUTRAL|NEGATIVO\" + \"\\n\" + descripcionDocumento"
   ]
  },
  {
   "cell_type": "code",
   "execution_count": 0,
   "metadata": {
    "application/vnd.databricks.v1+cell": {
     "cellMetadata": {
      "byteLimit": 2048000,
      "rowLimit": 10000
     },
     "inputWidgets": {},
     "nuid": "29801b6c-fe0f-4919-bfd9-88d04cde87dd",
     "showTitle": false,
     "title": ""
    }
   },
   "outputs": [
    {
     "output_type": "stream",
     "name": "stdout",
     "output_type": "stream",
     "text": [
      "DOCUMENTO|SENTIMIENTO|POSITIVO|NEUTRAL|NEGATIVO\n0|positive|0.97|0.03|0.0\n1|positive|0.9|0.1|0.01\n2|neutral|0.34|0.49|0.17\n3|mixed|0.32|0.35|0.32\n4|negative|0.1|0.12|0.78\n5|negative|0.01|0.11|0.89\n\n"
     ]
    }
   ],
   "source": [
    "print(descripcionDocument)"
   ]
  },
  {
   "cell_type": "code",
   "execution_count": 0,
   "metadata": {
    "application/vnd.databricks.v1+cell": {
     "cellMetadata": {
      "byteLimit": 2048000,
      "rowLimit": 10000
     },
     "inputWidgets": {},
     "nuid": "837af968-b9df-41ce-a081-693ec51c829d",
     "showTitle": false,
     "title": ""
    }
   },
   "outputs": [],
   "source": [
    "with open (\"/tmp/analisis_de_sentimiento_por_documento.txt\",\"w\",encoding = \"utf-8\") as archivo:\n",
    "  archivo.write(descripcionDocumento)"
   ]
  },
  {
   "cell_type": "code",
   "execution_count": 0,
   "metadata": {
    "application/vnd.databricks.v1+cell": {
     "cellMetadata": {
      "byteLimit": 2048000,
      "rowLimit": 10000
     },
     "inputWidgets": {},
     "nuid": "fadb64e9-7bcc-4350-a41d-154e0ae04e4a",
     "showTitle": false,
     "title": ""
    }
   },
   "outputs": [
    {
     "output_type": "display_data",
     "data": {
      "text/html": [
       "<style scoped>\n",
       "  .ansiout {\n",
       "    display: block;\n",
       "    unicode-bidi: embed;\n",
       "    white-space: pre-wrap;\n",
       "    word-wrap: break-word;\n",
       "    word-break: break-all;\n",
       "    font-family: \"Menlo\", \"Monaco\", \"Consolas\", \"Ubuntu Mono\", \"Source Code Pro\", monospace;\n",
       "    font-size: 13px;\n",
       "    color: #555;\n",
       "    margin-left: 4px;\n",
       "    line-height: 19px;\n",
       "  }\n",
       "</style>\n",
       "<div class=\"ansiout\">res0: Boolean = true\n",
       "</div>"
      ]
     },
     "metadata": {
      "application/vnd.databricks.v1+output": {
       "addedWidgets": {},
       "arguments": {},
       "data": "<div class=\"ansiout\">res0: Boolean = true\n</div>",
       "datasetInfos": [],
       "metadata": {
        "isDbfsCommandResult": false
       },
       "removedWidgets": [],
       "type": "html"
      }
     },
     "output_type": "display_data"
    }
   ],
   "source": [
    "%fs cp file:///tmp/analisis_de_sentimiento_por_documento.txt dbfs:///mnt/azure"
   ]
  },
  {
   "cell_type": "code",
   "execution_count": 0,
   "metadata": {
    "application/vnd.databricks.v1+cell": {
     "cellMetadata": {
      "byteLimit": 2048000,
      "rowLimit": 10000
     },
     "inputWidgets": {},
     "nuid": "f20b00b6-092c-4fd8-b195-689d41a721e4",
     "showTitle": false,
     "title": ""
    }
   },
   "outputs": [],
   "source": [
    "descripcionOracion = \"\""
   ]
  },
  {
   "cell_type": "code",
   "execution_count": 0,
   "metadata": {
    "application/vnd.databricks.v1+cell": {
     "cellMetadata": {
      "byteLimit": 2048000,
      "rowLimit": 10000
     },
     "inputWidgets": {},
     "nuid": "68a92802-bd63-4e24-9c72-bd9c66fd5503",
     "showTitle": false,
     "title": ""
    }
   },
   "outputs": [
    {
     "output_type": "stream",
     "name": "stdout",
     "output_type": "stream",
     "text": [
      "0| El Comelón ofrece una experiencia gastronómica excepcional. |neutral|0.27|0.71|0.02\n0|La variedad de platos en el menú es impresionante, y la calidad de la comida es siempre excepcional. |positive|0.96|0.04|0.0\n0|Cada bocado es una explosión de sabores que demuestra la maestría culinaria del chef. |neutral|0.4|0.58|0.02\n0|Recomiendo encarecidamente probar sus especialidades, ¡te sorprenderán gratamente! |positive|0.98|0.02|0.0\n1| Lo que destaca de El Comelón, además de su deliciosa comida, es el ambiente acogedor y el servicio amable. |positive|0.97|0.03|0.0\n1|El personal siempre está dispuesto a hacer recomendaciones y asegurarse de que la experiencia sea placentera. |positive|0.88|0.11|0.01\n1|Ya sea una comida íntima o una celebración, este restaurante crea el entorno perfecto para disfrutar de una buena comida. |positive|0.84|0.16|0.01\n2| La comida en El Comelón es buena, pero en varias ocasiones he experimentado tiempos de espera un poco prolongados, especialmente durante las horas pico. |neutral|0.32|0.42|0.26\n2|Si bien la calidad de la comida hace que la espera valga la pena, es algo a tener en cuenta si tienes poco tiempo. |neutral|0.36|0.56|0.08\n3| El restaurante tiene una decoración sencilla y no cuenta con grandes atractivos visuales. |negative|0.02|0.42|0.56\n3|Si bien esto puede no ser un problema para aquellos que buscan principalmente una experiencia culinaria, algunos podrían desear una atmósfera más elaborada para complementar la excelente comida. |positive|0.62|0.29|0.09\n4| Lamentablemente, he experimentado cierta inconsistencia en la calidad de la comida en El Comelón. |negative|0.0|0.02|0.97\n4|En algunas visitas, los platos son deliciosos y bien preparados, pero en otras ocasiones la calidad no está a la altura de las expectativas. |negative|0.29|0.24|0.47\n4|Esto puede ser frustrante para los clientes regulares. |negative|0.01|0.09|0.91\n5| Mi experiencia con la atención al cliente en El Comelón no ha sido la mejor. |negative|0.01|0.09|0.91\n5|En varias ocasiones, he notado que el personal parece desatento y poco comprometido con brindar un servicio excepcional. |negative|0.01|0.04|0.95\n5|Esto afecta negativamente la experiencia general en el restaurante. |negative|0.01|0.19|0.8\n"
     ]
    }
   ],
   "source": [
    "for resultado in resultados:\n",
    "  for oracion in resultado[\"sentences\"]:\n",
    "    #Definimos la lina de cada oración del documento\n",
    "    lineaOracion = (\n",
    "      str(resultado[\"id\"]) + \"|\" +\n",
    "      str(oracion[\"text\"]) + \"|\" +\n",
    "      str(oracion[\"sentiment\"]) + \"|\" +\n",
    "      str(oracion[\"confidence_scores\"][\"positive\"]) + \"|\" +\n",
    "      str(oracion[\"confidence_scores\"][\"neutral\"]) + \"|\" +\n",
    "      str(oracion[\"confidence_scores\"][\"negative\"])\n",
    "    )\n",
    "\n",
    "    print(lineaOracion)\n",
    "    descripcionOracion = descripcionOracion + lineaOracion + \"\\n\"\n"
   ]
  },
  {
   "cell_type": "code",
   "execution_count": 0,
   "metadata": {
    "application/vnd.databricks.v1+cell": {
     "cellMetadata": {
      "byteLimit": 2048000,
      "rowLimit": 10000
     },
     "inputWidgets": {},
     "nuid": "75bcccb6-dbb0-41ac-950a-961a8cb07397",
     "showTitle": false,
     "title": ""
    }
   },
   "outputs": [
    {
     "output_type": "stream",
     "name": "stdout",
     "output_type": "stream",
     "text": [
      "0| El Comelón ofrece una experiencia gastronómica excepcional. |neutral|0.27|0.71|0.02\n0|La variedad de platos en el menú es impresionante, y la calidad de la comida es siempre excepcional. |positive|0.96|0.04|0.0\n0|Cada bocado es una explosión de sabores que demuestra la maestría culinaria del chef. |neutral|0.4|0.58|0.02\n0|Recomiendo encarecidamente probar sus especialidades, ¡te sorprenderán gratamente! |positive|0.98|0.02|0.0\n1| Lo que destaca de El Comelón, además de su deliciosa comida, es el ambiente acogedor y el servicio amable. |positive|0.97|0.03|0.0\n1|El personal siempre está dispuesto a hacer recomendaciones y asegurarse de que la experiencia sea placentera. |positive|0.88|0.11|0.01\n1|Ya sea una comida íntima o una celebración, este restaurante crea el entorno perfecto para disfrutar de una buena comida. |positive|0.84|0.16|0.01\n2| La comida en El Comelón es buena, pero en varias ocasiones he experimentado tiempos de espera un poco prolongados, especialmente durante las horas pico. |neutral|0.32|0.42|0.26\n2|Si bien la calidad de la comida hace que la espera valga la pena, es algo a tener en cuenta si tienes poco tiempo. |neutral|0.36|0.56|0.08\n3| El restaurante tiene una decoración sencilla y no cuenta con grandes atractivos visuales. |negative|0.02|0.42|0.56\n3|Si bien esto puede no ser un problema para aquellos que buscan principalmente una experiencia culinaria, algunos podrían desear una atmósfera más elaborada para complementar la excelente comida. |positive|0.62|0.29|0.09\n4| Lamentablemente, he experimentado cierta inconsistencia en la calidad de la comida en El Comelón. |negative|0.0|0.02|0.97\n4|En algunas visitas, los platos son deliciosos y bien preparados, pero en otras ocasiones la calidad no está a la altura de las expectativas. |negative|0.29|0.24|0.47\n4|Esto puede ser frustrante para los clientes regulares. |negative|0.01|0.09|0.91\n5| Mi experiencia con la atención al cliente en El Comelón no ha sido la mejor. |negative|0.01|0.09|0.91\n5|En varias ocasiones, he notado que el personal parece desatento y poco comprometido con brindar un servicio excepcional. |negative|0.01|0.04|0.95\n5|Esto afecta negativamente la experiencia general en el restaurante. |negative|0.01|0.19|0.8\n\n"
     ]
    }
   ],
   "source": [
    "print(descripcionOracion)"
   ]
  },
  {
   "cell_type": "code",
   "execution_count": 0,
   "metadata": {
    "application/vnd.databricks.v1+cell": {
     "cellMetadata": {
      "byteLimit": 2048000,
      "rowLimit": 10000
     },
     "inputWidgets": {},
     "nuid": "5a782dd2-5e9e-4a7f-8f96-18955017c23e",
     "showTitle": false,
     "title": ""
    }
   },
   "outputs": [],
   "source": [
    "with open(\"/tmp/analisis_de_sentimientos_por_oracion.txt\", \"w\", encoding = \"utf-8\") as archivo:\n",
    "  #Escribimos el texto en el archivo\n",
    "  archivo.write(descripcionOracion)"
   ]
  },
  {
   "cell_type": "code",
   "execution_count": 0,
   "metadata": {
    "application/vnd.databricks.v1+cell": {
     "cellMetadata": {
      "byteLimit": 2048000,
      "rowLimit": 10000
     },
     "inputWidgets": {},
     "nuid": "316e8032-aee9-474f-9233-dc33165059f3",
     "showTitle": false,
     "title": ""
    }
   },
   "outputs": [
    {
     "output_type": "display_data",
     "data": {
      "text/html": [
       "<style scoped>\n",
       "  .ansiout {\n",
       "    display: block;\n",
       "    unicode-bidi: embed;\n",
       "    white-space: pre-wrap;\n",
       "    word-wrap: break-word;\n",
       "    word-break: break-all;\n",
       "    font-family: \"Menlo\", \"Monaco\", \"Consolas\", \"Ubuntu Mono\", \"Source Code Pro\", monospace;\n",
       "    font-size: 13px;\n",
       "    color: #555;\n",
       "    margin-left: 4px;\n",
       "    line-height: 19px;\n",
       "  }\n",
       "</style>\n",
       "<div class=\"ansiout\">res1: Boolean = true\n",
       "</div>"
      ]
     },
     "metadata": {
      "application/vnd.databricks.v1+output": {
       "addedWidgets": {},
       "arguments": {},
       "data": "<div class=\"ansiout\">res1: Boolean = true\n</div>",
       "datasetInfos": [],
       "metadata": {
        "isDbfsCommandResult": false
       },
       "removedWidgets": [],
       "type": "html"
      }
     },
     "output_type": "display_data"
    }
   ],
   "source": [
    "%fs cp file:///tmp/analisis_de_sentimientos_por_oracion.txt dbfs:///mnt/azure"
   ]
  }
 ],
 "metadata": {
  "application/vnd.databricks.v1+notebook": {
   "dashboards": [],
   "language": "python",
   "notebookMetadata": {
    "mostRecentlyExecutedCommandWithImplicitDF": {
     "commandId": 2931960096162258,
     "dataframes": [
      "_sqldf"
     ]
    },
    "pythonIndentUnit": 2
   },
   "notebookName": "lab76-reconocimiento de sentimientos",
   "widgets": {}
  }
 },
 "nbformat": 4,
 "nbformat_minor": 0
}
