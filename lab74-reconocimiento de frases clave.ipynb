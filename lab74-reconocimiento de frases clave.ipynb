{
 "cells": [
  {
   "cell_type": "code",
   "execution_count": 0,
   "metadata": {
    "application/vnd.databricks.v1+cell": {
     "cellMetadata": {
      "byteLimit": 2048000,
      "rowLimit": 10000
     },
     "inputWidgets": {},
     "nuid": "2429cfeb-e956-4614-b632-c89c2c776a16",
     "showTitle": false,
     "title": ""
    }
   },
   "outputs": [],
   "source": [
    "#Utilitario para iniciar sesión en el servicio\n",
    "from azure.core.credentials import AzureKeyCredential\n",
    "from azure.ai.textanalytics import TextAnalyticsClient"
   ]
  },
  {
   "cell_type": "code",
   "execution_count": 0,
   "metadata": {
    "application/vnd.databricks.v1+cell": {
     "cellMetadata": {
      "byteLimit": 2048000,
      "rowLimit": 10000
     },
     "inputWidgets": {},
     "nuid": "622d38ae-fe34-431b-b088-365300ddbace",
     "showTitle": false,
     "title": ""
    }
   },
   "outputs": [],
   "source": [
    "endpoint = \"https://languagelgprf.cognitiveservices.azure.com/\"\n",
    "clave = \"db3cffdcf03d49c7920b9bd18f33faf2\""
   ]
  },
  {
   "cell_type": "code",
   "execution_count": 0,
   "metadata": {
    "application/vnd.databricks.v1+cell": {
     "cellMetadata": {
      "byteLimit": 2048000,
      "rowLimit": 10000
     },
     "inputWidgets": {},
     "nuid": "f1c7032f-3eb9-4d4b-bb28-706eb9e75887",
     "showTitle": false,
     "title": ""
    }
   },
   "outputs": [],
   "source": [
    "servicio = TextAnalyticsClient(\n",
    "  endpoint = endpoint,\n",
    "  credential=AzureKeyCredential(clave)\n",
    ")"
   ]
  },
  {
   "cell_type": "code",
   "execution_count": 0,
   "metadata": {
    "application/vnd.databricks.v1+cell": {
     "cellMetadata": {
      "byteLimit": 2048000,
      "rowLimit": 10000
     },
     "inputWidgets": {},
     "nuid": "b90cbbcf-d9ec-4b64-be67-26d9be2b5995",
     "showTitle": false,
     "title": ""
    }
   },
   "outputs": [],
   "source": [
    "documentos = [\n",
    "\"\"\"\n",
    "Si tienen ganas de comer unas buenas carnes a la parrilla vayan a El Hornero, este lugar es el correcto!! La comida muy buena y la atención de los mozos de primera. No es barato, pero vale la pena darse el gusto.\n",
    "\"\"\",\n",
    "\"\"\"\n",
    "Uno de nuestros preferidos es el hornero cuando se trata de comer parrillas. Atención de primera desde el ingreso. Aperitivos A1 y sobre todo los piqueos y cortes de calidad excepcional.\n",
    "\"\"\",\n",
    "\"\"\"\n",
    "Este restaurante tiene buenos detalles para empezar. Una carne exquisita y bebidas apreciables. La parrillada aconsejable para compartir: morcilla chorizo pollo, anticuchos, carne de res y de cerdo. Acompañada por patatas y ensalada. Recomendaremos al hornero con nuestros amigos.\n",
    "\"\"\"\n",
    "]"
   ]
  },
  {
   "cell_type": "code",
   "execution_count": 0,
   "metadata": {
    "application/vnd.databricks.v1+cell": {
     "cellMetadata": {
      "byteLimit": 2048000,
      "rowLimit": 10000
     },
     "inputWidgets": {},
     "nuid": "b4d2e764-c43a-45ee-b9af-518c2a719014",
     "showTitle": false,
     "title": ""
    }
   },
   "outputs": [],
   "source": [
    "resultados = servicio.extract_key_phrases(documentos)"
   ]
  },
  {
   "cell_type": "code",
   "execution_count": 0,
   "metadata": {
    "application/vnd.databricks.v1+cell": {
     "cellMetadata": {
      "byteLimit": 2048000,
      "rowLimit": 10000
     },
     "inputWidgets": {},
     "nuid": "a7deb917-90c0-4ddb-b894-a9b29af176e9",
     "showTitle": false,
     "title": ""
    }
   },
   "outputs": [
    {
     "output_type": "stream",
     "name": "stdout",
     "output_type": "stream",
     "text": [
      "Out[9]: ExtractKeyPhrasesResult(id=0, key_phrases=['buenas carnes', 'El Hornero', 'atención', 'ganas', 'parrilla', 'lugar', 'comida', 'mozos', 'primera', 'pena', 'gusto'], warnings=[], statistics=None, is_error=False, kind=KeyPhraseExtraction)"
     ]
    }
   ],
   "source": [
    "resultados[0]"
   ]
  },
  {
   "cell_type": "code",
   "execution_count": 0,
   "metadata": {
    "application/vnd.databricks.v1+cell": {
     "cellMetadata": {
      "byteLimit": 2048000,
      "rowLimit": 10000
     },
     "inputWidgets": {},
     "nuid": "c0b2e55f-7a3c-4cd4-970f-47a2122381af",
     "showTitle": false,
     "title": ""
    }
   },
   "outputs": [
    {
     "output_type": "stream",
     "name": "stdout",
     "output_type": "stream",
     "text": [
      "0|atención\n"
     ]
    }
   ],
   "source": [
    "linea = (\n",
    "  str(resultados[0][\"id\"]) + \"|\" +\n",
    "  str(resultados[0][\"key_phrases\"][2])\n",
    ")\n",
    "\n",
    "#Verificamos\n",
    "print(linea)"
   ]
  },
  {
   "cell_type": "code",
   "execution_count": 0,
   "metadata": {
    "application/vnd.databricks.v1+cell": {
     "cellMetadata": {
      "byteLimit": 2048000,
      "rowLimit": 10000
     },
     "inputWidgets": {},
     "nuid": "0db2c32b-1090-4258-ba23-5f26992720ca",
     "showTitle": false,
     "title": ""
    }
   },
   "outputs": [],
   "source": [
    "descripcion = \"\""
   ]
  },
  {
   "cell_type": "code",
   "execution_count": 0,
   "metadata": {
    "application/vnd.databricks.v1+cell": {
     "cellMetadata": {
      "byteLimit": 2048000,
      "rowLimit": 10000
     },
     "inputWidgets": {},
     "nuid": "57721321-5037-48e0-a53e-15539c696f7b",
     "showTitle": false,
     "title": ""
    }
   },
   "outputs": [
    {
     "output_type": "stream",
     "name": "stdout",
     "output_type": "stream",
     "text": [
      "0|buenas carnes\n0|El Hornero\n0|atención\n0|ganas\n0|parrilla\n0|lugar\n0|comida\n0|mozos\n0|primera\n0|pena\n0|gusto\n1|Atención\n1|Aperitivos A1\n1|preferidos\n1|hornero\n1|parrillas\n1|primera\n1|ingreso\n1|piqueos\n1|cortes\n1|calidad\n2|buenos detalles\n2|chorizo pollo\n2|carne exquisita\n2|restaurante\n2|bebidas\n2|parrillada\n2|morcilla\n2|anticuchos\n2|cerdo\n2|patatas\n2|ensalada\n2|hornero\n2|amigos\n"
     ]
    }
   ],
   "source": [
    "for resultado in resultados:\n",
    "  #Iteramos cada entidad de cada resultado\n",
    "  for fraseClave in resultado[\"key_phrases\"]:\n",
    "    #Definimos la lina\n",
    "    linea = (\n",
    "      str(resultado[\"id\"])+ \"|\" +\n",
    "      str(fraseClave)\n",
    "    )\n",
    "\n",
    "    #Imprimimos la lina\n",
    "    print(linea)\n",
    "\n",
    "    #Agregamos cada linea a la descripción\n",
    "    descripcion = descripcion + linea + \"\\n\"\n"
   ]
  },
  {
   "cell_type": "code",
   "execution_count": 0,
   "metadata": {
    "application/vnd.databricks.v1+cell": {
     "cellMetadata": {
      "byteLimit": 2048000,
      "rowLimit": 10000
     },
     "inputWidgets": {},
     "nuid": "be5a8945-668a-4251-bd49-711878f5d273",
     "showTitle": false,
     "title": ""
    }
   },
   "outputs": [],
   "source": [
    "descripcion = \"DOCUMENTO|FRASE_CLAVE\" + \"\\n\"+ descripcion"
   ]
  },
  {
   "cell_type": "code",
   "execution_count": 0,
   "metadata": {
    "application/vnd.databricks.v1+cell": {
     "cellMetadata": {
      "byteLimit": 2048000,
      "rowLimit": 10000
     },
     "inputWidgets": {},
     "nuid": "20341ee7-af31-48e1-b21d-263a28f5acba",
     "showTitle": false,
     "title": ""
    }
   },
   "outputs": [
    {
     "output_type": "stream",
     "name": "stdout",
     "output_type": "stream",
     "text": [
      "DOCUMENTO|FRASE_CLAVE\n0|buenas carnes\n0|El Hornero\n0|atención\n0|ganas\n0|parrilla\n0|lugar\n0|comida\n0|mozos\n0|primera\n0|pena\n0|gusto\n1|Atención\n1|Aperitivos A1\n1|preferidos\n1|hornero\n1|parrillas\n1|primera\n1|ingreso\n1|piqueos\n1|cortes\n1|calidad\n2|buenos detalles\n2|chorizo pollo\n2|carne exquisita\n2|restaurante\n2|bebidas\n2|parrillada\n2|morcilla\n2|anticuchos\n2|cerdo\n2|patatas\n2|ensalada\n2|hornero\n2|amigos\n\n"
     ]
    }
   ],
   "source": [
    "print(descripcion)"
   ]
  },
  {
   "cell_type": "code",
   "execution_count": 0,
   "metadata": {
    "application/vnd.databricks.v1+cell": {
     "cellMetadata": {
      "byteLimit": 2048000,
      "rowLimit": 10000
     },
     "inputWidgets": {},
     "nuid": "01d8e336-893b-43b4-a56f-39eed9c2840a",
     "showTitle": false,
     "title": ""
    }
   },
   "outputs": [],
   "source": [
    "with open(\"/tmp/extraccion_de_frase_clave.txt\",\"w\",encoding=\"utf-8\") as archivo:\n",
    "  archivo.write(descripcion)"
   ]
  },
  {
   "cell_type": "code",
   "execution_count": 0,
   "metadata": {
    "application/vnd.databricks.v1+cell": {
     "cellMetadata": {
      "byteLimit": 2048000,
      "rowLimit": 10000
     },
     "inputWidgets": {},
     "nuid": "daa79e9c-d4ad-4b3c-bb90-d16b1fd7e05c",
     "showTitle": false,
     "title": ""
    }
   },
   "outputs": [
    {
     "output_type": "display_data",
     "data": {
      "text/html": [
       "<style scoped>\n",
       "  .ansiout {\n",
       "    display: block;\n",
       "    unicode-bidi: embed;\n",
       "    white-space: pre-wrap;\n",
       "    word-wrap: break-word;\n",
       "    word-break: break-all;\n",
       "    font-family: \"Menlo\", \"Monaco\", \"Consolas\", \"Ubuntu Mono\", \"Source Code Pro\", monospace;\n",
       "    font-size: 13px;\n",
       "    color: #555;\n",
       "    margin-left: 4px;\n",
       "    line-height: 19px;\n",
       "  }\n",
       "</style>\n",
       "<div class=\"ansiout\">res0: Boolean = true\n",
       "</div>"
      ]
     },
     "metadata": {
      "application/vnd.databricks.v1+output": {
       "addedWidgets": {},
       "arguments": {},
       "data": "<div class=\"ansiout\">res0: Boolean = true\n</div>",
       "datasetInfos": [],
       "metadata": {
        "isDbfsCommandResult": false
       },
       "removedWidgets": [],
       "type": "html"
      }
     },
     "output_type": "display_data"
    }
   ],
   "source": [
    "%fs cp file:///tmp/extraccion_de_frase_clave.txt dbfs:///mnt/azure"
   ]
  }
 ],
 "metadata": {
  "application/vnd.databricks.v1+notebook": {
   "dashboards": [],
   "language": "python",
   "notebookMetadata": {
    "mostRecentlyExecutedCommandWithImplicitDF": {
     "commandId": 2931960096162238,
     "dataframes": [
      "_sqldf"
     ]
    },
    "pythonIndentUnit": 2
   },
   "notebookName": "lab74-reconocimiento de frases clave",
   "widgets": {}
  }
 },
 "nbformat": 4,
 "nbformat_minor": 0
}
