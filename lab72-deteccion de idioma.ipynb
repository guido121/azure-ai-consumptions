{
 "cells": [
  {
   "cell_type": "code",
   "execution_count": 0,
   "metadata": {
    "application/vnd.databricks.v1+cell": {
     "cellMetadata": {
      "byteLimit": 2048000,
      "rowLimit": 10000
     },
     "inputWidgets": {},
     "nuid": "b7a3efd2-b1e2-4808-b549-5bc05fe209c8",
     "showTitle": false,
     "title": ""
    }
   },
   "outputs": [],
   "source": [
    "#Utilitario para iniciar sesión en el servicio\n",
    "from azure.core.credentials import AzureKeyCredential\n",
    "from azure.ai.textanalytics import TextAnalyticsClient"
   ]
  },
  {
   "cell_type": "code",
   "execution_count": 0,
   "metadata": {
    "application/vnd.databricks.v1+cell": {
     "cellMetadata": {
      "byteLimit": 2048000,
      "rowLimit": 10000
     },
     "inputWidgets": {},
     "nuid": "fc03593d-53ce-44a0-a5a5-6cfa8ca2e6ad",
     "showTitle": false,
     "title": ""
    }
   },
   "outputs": [],
   "source": [
    "endpoint = \"https://languagelgprf.cognitiveservices.azure.com/\"\n",
    "clave = \"db3cffdcf03d49c7920b9bd18f33faf2\""
   ]
  },
  {
   "cell_type": "code",
   "execution_count": 0,
   "metadata": {
    "application/vnd.databricks.v1+cell": {
     "cellMetadata": {
      "byteLimit": 2048000,
      "rowLimit": 10000
     },
     "inputWidgets": {},
     "nuid": "b359a58b-a7d4-4aa7-a1c2-d13e3f7c6c5f",
     "showTitle": false,
     "title": ""
    }
   },
   "outputs": [],
   "source": [
    "servicio = TextAnalyticsClient(\n",
    "  endpoint = endpoint,\n",
    "  credential=AzureKeyCredential(clave)\n",
    ")"
   ]
  },
  {
   "cell_type": "code",
   "execution_count": 0,
   "metadata": {
    "application/vnd.databricks.v1+cell": {
     "cellMetadata": {
      "byteLimit": 2048000,
      "rowLimit": 10000
     },
     "inputWidgets": {},
     "nuid": "073be26b-2394-4257-8ea6-e3d683e37610",
     "showTitle": false,
     "title": ""
    }
   },
   "outputs": [],
   "source": [
    "documentos = [\n",
    "  \"\"\"\n",
    "Big Data Academy es una empresa de educación en línea que ofrece cursos y programas de capacitación en Big Data e Inteligencia Artificial. Los cursos son impartidos por profesionales con amplia experiencia en la industria y cubren temas como Big Data, Cloud Computing y Ciencia de Datos.\n",
    "La plataforma también ofrece acceso gratuito a un masterclass y workshops. Puedes registrarte en su sitio web para obtener más información.\n",
    "\"\"\",\n",
    "\"\"\"\n",
    "Big Data Academy是一家在线教育公司，提供大数据和人工智能的课程和培训项目。课程由在行业内具有丰富经验的专业人士授课，涵盖大数据、云计算和数据科学等主题。该平台还提供免费参与大师课程和研讨会的机会。您可以在他们的网站上注册以获取更多信息。\n",
    "\"\"\",\n",
    "\"\"\"\n",
    "Big Data Academy est une entreprise d'éducation en ligne proposant des cours et des programmes de formation en Big Data et Intelligence \n",
    "Artificielle. Les cours sont dispensés par des professionnels de l'industrie et couvrent des sujets tels que le Big Data, le Cloud Computing et \n",
    "la Science des Données. La plateforme offre également un accès gratuit à des masterclass et des ateliers. Vous pouvez vous inscrire sur ,\n",
    "leur site web pour obtenir plus d'informations.\n",
    "\"\"\",\n",
    "\"\"\"\n",
    "Big Data Academy är ett företag för online-utbildning som erbjuder kurser och träningsprogram inom Big Data och artificiell intelligens. \n",
    "Kurserna hålls av yrkesverksamma med omfattande branscherfarenhet och täcker ämnen som Big Data, molnberäkning och dataanalys. Plattformen \n",
    "erbjuder också gratis tillgång till mästarklass och workshops. Du kan registrera dig på deras webbplats för mer information.\n",
    "\"\"\"\n",
    "]"
   ]
  },
  {
   "cell_type": "code",
   "execution_count": 0,
   "metadata": {
    "application/vnd.databricks.v1+cell": {
     "cellMetadata": {
      "byteLimit": 2048000,
      "rowLimit": 10000
     },
     "inputWidgets": {},
     "nuid": "c0634b4c-4f75-4cd9-8350-ee4256ed0734",
     "showTitle": false,
     "title": ""
    }
   },
   "outputs": [],
   "source": [
    "resultados = servicio.detect_language(documentos)"
   ]
  },
  {
   "cell_type": "code",
   "execution_count": 0,
   "metadata": {
    "application/vnd.databricks.v1+cell": {
     "cellMetadata": {
      "byteLimit": 2048000,
      "rowLimit": 10000
     },
     "inputWidgets": {},
     "nuid": "7f3a836f-c0c7-4467-9899-920a4cca3e9c",
     "showTitle": false,
     "title": ""
    }
   },
   "outputs": [
    {
     "output_type": "stream",
     "name": "stdout",
     "output_type": "stream",
     "text": [
      "Out[13]: [DetectLanguageResult(id=0, primary_language=DetectedLanguage(name=Spanish, iso6391_name=es, confidence_score=1.0), warnings=[], statistics=None, is_error=False, kind=LanguageDetection),\n DetectLanguageResult(id=1, primary_language=DetectedLanguage(name=Chinese_Simplified, iso6391_name=zh_chs, confidence_score=1.0), warnings=[], statistics=None, is_error=False, kind=LanguageDetection),\n DetectLanguageResult(id=2, primary_language=DetectedLanguage(name=French, iso6391_name=fr, confidence_score=1.0), warnings=[], statistics=None, is_error=False, kind=LanguageDetection),\n DetectLanguageResult(id=3, primary_language=DetectedLanguage(name=Swedish, iso6391_name=sv, confidence_score=1.0), warnings=[], statistics=None, is_error=False, kind=LanguageDetection)]"
     ]
    }
   ],
   "source": [
    "resultados"
   ]
  },
  {
   "cell_type": "code",
   "execution_count": 0,
   "metadata": {
    "application/vnd.databricks.v1+cell": {
     "cellMetadata": {
      "byteLimit": 2048000,
      "rowLimit": 10000
     },
     "inputWidgets": {},
     "nuid": "362c83c2-80fe-4ad3-a78c-e5f99510800a",
     "showTitle": false,
     "title": ""
    }
   },
   "outputs": [
    {
     "output_type": "stream",
     "name": "stdout",
     "output_type": "stream",
     "text": [
      "0|Spanish|es|1.0\n"
     ]
    }
   ],
   "source": [
    "linea = (\n",
    "  str(resultados[0][\"id\"]) + \"|\" +\n",
    "  str(resultados[0][\"primary_language\"][\"name\"]) + \"|\" +\n",
    "  str(resultados[0][\"primary_language\"][\"iso6391_name\"]) + \"|\" +\n",
    "  str(resultados[0][\"primary_language\"][\"confidence_score\"]) \n",
    ")\n",
    "print(linea)"
   ]
  },
  {
   "cell_type": "code",
   "execution_count": 0,
   "metadata": {
    "application/vnd.databricks.v1+cell": {
     "cellMetadata": {
      "byteLimit": 2048000,
      "rowLimit": 10000
     },
     "inputWidgets": {},
     "nuid": "a5d407fc-294d-4587-8eff-d862fff1ff17",
     "showTitle": false,
     "title": ""
    }
   },
   "outputs": [],
   "source": [
    "descripcion = \"\""
   ]
  },
  {
   "cell_type": "code",
   "execution_count": 0,
   "metadata": {
    "application/vnd.databricks.v1+cell": {
     "cellMetadata": {
      "byteLimit": 2048000,
      "rowLimit": 10000
     },
     "inputWidgets": {},
     "nuid": "ed24624f-964a-4c2b-992d-4236c3fa629b",
     "showTitle": false,
     "title": ""
    }
   },
   "outputs": [
    {
     "output_type": "stream",
     "name": "stdout",
     "output_type": "stream",
     "text": [
      "0|Spanish|es|1.0\n1|Chinese_Simplified|zh_chs|1.0\n2|French|fr|1.0\n3|Swedish|sv|1.0\n"
     ]
    }
   ],
   "source": [
    "for resultado in resultados:\n",
    "  #Definimos la linea\n",
    "  linea = (\n",
    "  str(resultado[\"id\"]) + \"|\" +\n",
    "  str(resultado[\"primary_language\"][\"name\"]) + \"|\" +\n",
    "  str(resultado[\"primary_language\"][\"iso6391_name\"]) + \"|\" +\n",
    "  str(resultado[\"primary_language\"][\"confidence_score\"]) \n",
    " )\n",
    "  #imprimimos la linea\n",
    "  print(linea)\n",
    "\n",
    "  descripcion = descripcion + linea + \"\\n\"\n"
   ]
  },
  {
   "cell_type": "code",
   "execution_count": 0,
   "metadata": {
    "application/vnd.databricks.v1+cell": {
     "cellMetadata": {
      "byteLimit": 2048000,
      "rowLimit": 10000
     },
     "inputWidgets": {},
     "nuid": "17a07ca8-7a0b-4a0a-aeda-5a153c5cfcf8",
     "showTitle": false,
     "title": ""
    }
   },
   "outputs": [],
   "source": [
    "descripcion = \"DOCUMENTO|IDIOMA|ID_IDIOMA|PROBABILIDAD\" + \"\\n\" + descripcion"
   ]
  },
  {
   "cell_type": "code",
   "execution_count": 0,
   "metadata": {
    "application/vnd.databricks.v1+cell": {
     "cellMetadata": {
      "byteLimit": 2048000,
      "rowLimit": 10000
     },
     "inputWidgets": {},
     "nuid": "d0656bdb-5d4d-441c-85e5-9547dfeceb90",
     "showTitle": false,
     "title": ""
    }
   },
   "outputs": [
    {
     "output_type": "stream",
     "name": "stdout",
     "output_type": "stream",
     "text": [
      "DOCUMENTO|IDIOMA|ID_IDIOMA|PROBABILIDAD\n0|Spanish|es|1.0\n1|Chinese_Simplified|zh_chs|1.0\n2|French|fr|1.0\n3|Swedish|sv|1.0\n\n"
     ]
    }
   ],
   "source": [
    "print(descripcion)"
   ]
  },
  {
   "cell_type": "code",
   "execution_count": 0,
   "metadata": {
    "application/vnd.databricks.v1+cell": {
     "cellMetadata": {
      "byteLimit": 2048000,
      "rowLimit": 10000
     },
     "inputWidgets": {},
     "nuid": "d062d685-784a-4a02-b3aa-3f2018eaf434",
     "showTitle": false,
     "title": ""
    }
   },
   "outputs": [],
   "source": [
    "with open(\"/tmp/deteccion_de_idioma.txt\",\"w\", encoding=\"utf-8\") as archivo:\n",
    "  #Escribimos el texto en el archivo\n",
    "  archivo.write(descripcion)\n",
    "  "
   ]
  },
  {
   "cell_type": "code",
   "execution_count": 0,
   "metadata": {
    "application/vnd.databricks.v1+cell": {
     "cellMetadata": {
      "byteLimit": 2048000,
      "rowLimit": 10000
     },
     "inputWidgets": {},
     "nuid": "bce74389-72a2-4223-9d78-8e09f0f8d128",
     "showTitle": false,
     "title": ""
    }
   },
   "outputs": [
    {
     "output_type": "display_data",
     "data": {
      "text/html": [
       "<style scoped>\n",
       "  .ansiout {\n",
       "    display: block;\n",
       "    unicode-bidi: embed;\n",
       "    white-space: pre-wrap;\n",
       "    word-wrap: break-word;\n",
       "    word-break: break-all;\n",
       "    font-family: \"Menlo\", \"Monaco\", \"Consolas\", \"Ubuntu Mono\", \"Source Code Pro\", monospace;\n",
       "    font-size: 13px;\n",
       "    color: #555;\n",
       "    margin-left: 4px;\n",
       "    line-height: 19px;\n",
       "  }\n",
       "</style>\n",
       "<div class=\"ansiout\">res0: Boolean = true\n",
       "</div>"
      ]
     },
     "metadata": {
      "application/vnd.databricks.v1+output": {
       "addedWidgets": {},
       "arguments": {},
       "data": "<div class=\"ansiout\">res0: Boolean = true\n</div>",
       "datasetInfos": [],
       "metadata": {
        "isDbfsCommandResult": false
       },
       "removedWidgets": [],
       "type": "html"
      }
     },
     "output_type": "display_data"
    }
   ],
   "source": [
    "%fs cp file:///tmp/deteccion_de_idioma.txt dbfs:///mnt/azure"
   ]
  }
 ],
 "metadata": {
  "application/vnd.databricks.v1+notebook": {
   "dashboards": [],
   "language": "python",
   "notebookMetadata": {
    "mostRecentlyExecutedCommandWithImplicitDF": {
     "commandId": 2931960096162207,
     "dataframes": [
      "_sqldf"
     ]
    },
    "pythonIndentUnit": 2
   },
   "notebookName": "lab72-deteccion de idioma",
   "widgets": {}
  }
 },
 "nbformat": 4,
 "nbformat_minor": 0
}
