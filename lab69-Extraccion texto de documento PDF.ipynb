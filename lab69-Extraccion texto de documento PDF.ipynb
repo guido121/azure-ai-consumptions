{
 "cells": [
  {
   "cell_type": "code",
   "execution_count": 0,
   "metadata": {
    "application/vnd.databricks.v1+cell": {
     "cellMetadata": {
      "byteLimit": 2048000,
      "rowLimit": 10000
     },
     "inputWidgets": {},
     "nuid": "66cbce92-ef13-4409-b76c-f174fe6deb0b",
     "showTitle": false,
     "title": ""
    }
   },
   "outputs": [],
   "source": [
    "import fitz"
   ]
  },
  {
   "cell_type": "code",
   "execution_count": 0,
   "metadata": {
    "application/vnd.databricks.v1+cell": {
     "cellMetadata": {
      "byteLimit": 2048000,
      "rowLimit": 10000
     },
     "inputWidgets": {},
     "nuid": "9319be59-131c-4e6a-84f4-15f8d439fc28",
     "showTitle": false,
     "title": ""
    }
   },
   "outputs": [
    {
     "output_type": "display_data",
     "data": {
      "text/html": [
       "<style scoped>\n",
       "  .ansiout {\n",
       "    display: block;\n",
       "    unicode-bidi: embed;\n",
       "    white-space: pre-wrap;\n",
       "    word-wrap: break-word;\n",
       "    word-break: break-all;\n",
       "    font-family: \"Menlo\", \"Monaco\", \"Consolas\", \"Ubuntu Mono\", \"Source Code Pro\", monospace;\n",
       "    font-size: 13px;\n",
       "    color: #555;\n",
       "    margin-left: 4px;\n",
       "    line-height: 19px;\n",
       "  }\n",
       "</style>\n",
       "<div class=\"ansiout\">res0: Boolean = true\n",
       "</div>"
      ]
     },
     "metadata": {
      "application/vnd.databricks.v1+output": {
       "addedWidgets": {},
       "arguments": {},
       "data": "<div class=\"ansiout\">res0: Boolean = true\n</div>",
       "datasetInfos": [],
       "metadata": {
        "isDbfsCommandResult": false
       },
       "removedWidgets": [],
       "type": "html"
      }
     },
     "output_type": "display_data"
    }
   ],
   "source": [
    "%fs cp dbfs:///mnt/azure/data/DOCUMENTO_PDF.pdf file:///tmp"
   ]
  },
  {
   "cell_type": "code",
   "execution_count": 0,
   "metadata": {
    "application/vnd.databricks.v1+cell": {
     "cellMetadata": {
      "byteLimit": 2048000,
      "rowLimit": 10000
     },
     "inputWidgets": {},
     "nuid": "231a6c19-14ea-4698-8586-66ee3fbff64e",
     "showTitle": false,
     "title": ""
    }
   },
   "outputs": [],
   "source": [
    "archivoPdf = \"/tmp/DOCUMENTO_PDF.pdf\""
   ]
  },
  {
   "cell_type": "code",
   "execution_count": 0,
   "metadata": {
    "application/vnd.databricks.v1+cell": {
     "cellMetadata": {
      "byteLimit": 2048000,
      "rowLimit": 10000
     },
     "inputWidgets": {},
     "nuid": "0eaea975-b8db-4d04-a3e7-a497f2921f97",
     "showTitle": false,
     "title": ""
    }
   },
   "outputs": [],
   "source": [
    "texto = \"\""
   ]
  },
  {
   "cell_type": "code",
   "execution_count": 0,
   "metadata": {
    "application/vnd.databricks.v1+cell": {
     "cellMetadata": {
      "byteLimit": 2048000,
      "rowLimit": 10000
     },
     "inputWidgets": {},
     "nuid": "a6b0b2e7-b882-44e1-9c49-cfe0f96be1b4",
     "showTitle": false,
     "title": ""
    }
   },
   "outputs": [],
   "source": [
    "with fitz.open(archivoPdf) as pdf:\n",
    "  for pagina in pdf:\n",
    "    textoDePagina = pagina.get_text()\n",
    "    texto = texto + textoDePagina + \" \""
   ]
  },
  {
   "cell_type": "code",
   "execution_count": 0,
   "metadata": {
    "application/vnd.databricks.v1+cell": {
     "cellMetadata": {
      "byteLimit": 2048000,
      "rowLimit": 10000
     },
     "inputWidgets": {},
     "nuid": "103f068c-d7db-40f3-8889-32e1bb2b543e",
     "showTitle": false,
     "title": ""
    }
   },
   "outputs": [
    {
     "output_type": "stream",
     "name": "stdout",
     "output_type": "stream",
     "text": [
      "Out[5]: 'The Matrix \\nThe Matrix (conocida como Matrix en Hispanoamérica) es una película de acción y ciencia \\nficción de 1999 escrita y dirigida por las hermanas Wachowski y protagonizada por Keanu \\nReeves, Laurence Fishburne, Carrie-Anne Moss y Hugo Weaving. Representa un futuro \\ndistópico en el que la humanidad está atrapada sin saberlo dentro de una realidad simulada \\nllamada Matrix, que las máquinas inteligentes han creado para distraer a los humanos \\nmientras usan sus cuerpos como fuente de energía en campos de cultivo. Cuando el \\nprogramador informático Thomas Anderson, bajo el alias de hacker \"Neo\", descubre la \\nincómoda verdad, se une a una rebelión contra las máquinas junto con otras personas que han \\nsido liberadas de Matrix. Siendo estrenada en los Estados Unidos el 31 de marzo de 1999, es la \\nprimera entrega de la franquicia Matrix, de la que derivan (dado su éxito) una serie de \\nvideojuegos, cortos animados y cómics, llegando a ser un claro ejemplo del subgénero \\ncyberpunk. \\n \\nEn su argumento, se establecen \\nparalelismos con algunos conceptos \\nreligiosos, filosóficos e ideológicos. \\nAdemás, esta obra significa un antes y un \\ndespués en los efectos visuales de la época, \\nentre los cuales se destaca el «tiempo \\nbala» (bullet time), técnica que consiste en \\naparentar que se congela la acción \\nmientras la cámara sigue moviéndose \\nalrededor de la escena, un efecto visual \\nque se consigue utilizando múltiples \\ncámaras que graban la acción desde \\ndistintas posiciones a una cantidad elevada de fotogramas por segundo, y que posteriormente \\nintercalan los fotogramas de cada una de las cámaras. Aunque es un efecto muy \\nrevolucionario, no fue la primera vez que hizo su aparición en el cine (anteriormente fue usado \\nen películas como Jumanji, entre otras), pero fue con este filme cuando surgió un gran interés \\npor este efecto, y que posteriormente fue utilizado en otras películas. El enfoque de las \\nescenas de acción de las Wachowski fue influenciado por el anime japonés, las películas de \\nartes marciales y el uso de la película de coreógrafos de lucha y técnicas de wire fu del cine de \\nacción de Hong Kong. \\n \\nLa película, reconocida con cuatro Premios Óscar (Mejor montaje, Mejor sonido, Mejor edición \\nde sonido y Mejores efectos visuales), se ha vuelto una cinta de culto y fue incluida en el \\nNational Film Registry de la Biblioteca del Congreso de Estados Unidos en 2012. El éxito de la \\npelícula llevó al lanzamiento de dos secuelas cinematográficas en 2003, The Matrix Reloaded y \\nThe Matrix Revolutions, que también fueron escritas y dirigidas por las Wachowski. Una cuarta \\npelícula, The Matrix Resurrections, se estrenó el 22 de diciembre de 2021. \\nARGUMENTO \\n Thomas Anderson (Keanu Reeves) es programador informático de día y un hacker llamado Neo \\nde noche. Lleva toda su vida intuyendo que hay algo más, que hay algo que falla y esa duda se \\nve reafirmada con un mensaje recibido en su ordenador: «Matrix te posee». Así, Neo comienza \\nla búsqueda desesperada de una persona de la que solo ha oído hablar: otro hacker llamado \\nMorfeo (Laurence Fishburne), alguien que puede darle la respuesta a las preguntas que \\npersigue: ¿Qué es Matrix? y ¿por qué lo posee a él?3 Morfeo y su equipo, al darse cuenta de \\nque sus enemigos están buscando a Neo, deciden entrar en contacto con él. La hacker Trinity \\n(Carrie-Anne Moss), amiga de Morfeo, lo conduce hasta él y la respuesta que busca. Pero para \\nobtenerla debe renunciar a su vida anterior y a todo lo que había conocido antes. El símbolo \\nde dicho proceso es aceptar tomar una píldora roja; en cambio, la píldora azul podría \\ndevolverlo a su mundo actual sin que, aparentemente, nada de lo que está sucediendo hubiera \\npasado. Neo acepta tomar la pastilla roja, olvidar su vida y todo lo que conoce para descubrir \\n«qué es Matrix». \\n \\nNeo descubre que el mundo en el que creía vivir no es más que una simulación virtual a la que \\nse encuentra conectado mediante un cable enchufado en su cerebro. Los miles de millones de \\nseres humanos que viven (conectados) a su alrededor están siendo cultivados del mismo modo \\npara poder dar energía a las máquinas en un mundo post-apocalíptico. Esta ilusión colectiva (o \\nsimulación interactiva) es conocida como The Matrix4 (la matriz).5 La simulación intenta \\nrecrear el modo de vida humana tal y como era a finales del siglo xx. \\n \\nEl grupo de rebeldes del mundo real liderados por Morfeo rescata a Neo de la cosecha de \\nhumanos donde se encontraba preso. Una vez liberado, Morfeo le explica en qué consiste la \\nrealidad. Se encuentran cerca del año 2199 (aunque esta es la fecha que Morfeo estima, en \\nrealidad están cerca del 3199 tal y como se descubre al final de Matrix Reloaded) y la \\nhumanidad está esclavizada por las máquinas, que tras el desarrollo de la IA (Inteligencia \\nArtificial) se rebelaron contra su creador, la humanidad. La revolución desembocó en una gran \\nguerra por la supervivencia de ambos contendientes. Esta, a su vez, desembocó en el deterioro \\ndel medio ambiente, haciéndolo insostenible para humanos y máquinas. En palabras de \\nMorfeo: \\n«[...] no se sabe quién atacó primero, si nosotros o ellos, pero sí sabemos que nosotros \\narrasamos el cielo». \\nMorfeo, personaje de Matrix (1999), creado por las Hermanas Wachowski \\nLas máquinas, tras vencer la guerra y quedar privadas de la energía solar que necesitaban para \\nfuncionar, dominan la superficie terrestre y emplean a la especie humana como fuente de \\nenergía, cosechándolos en grandes campos de cultivo. También Morfeo habla, aunque \\nindirectamente, de la operación Tormenta negra, Dark Storm, la cual, durante la guerra entre \\nhumanidad y máquinas, se ideó para debilitar a las máquinas, que funcionaban con energía \\nsolar. Morfeo también le cuenta a Neo que cree que él es «el Elegido». Entre los sobrevivientes \\nhumanos, organizados en un último reducto del subsuelo llamado Sion, existe una profecía \\nque augura que un elegido será capaz de liberar a la humanidad de la esclavitud a la que está \\nsometida. «El Elegido» podría cambiar la Matrix a su voluntad, otorgando así la victoria a los \\nhumanos. \\n  \\nEl mundo virtual de Matrix se convierte en el campo de batalla donde Neo tiene que combatir \\na los agentes, programas antropomórficos capaces de poseer a cualquier habitante de Matrix \\nque la resistencia no haya liberado, y en particular contra el temible Agente Smith (Hugo \\nWeaving). Estos intentan impedir que los rebeldes rescaten a las personas que están \\nconectadas, ya que están programados para capturar a cualquier intruso que altere la realidad \\nde Matrix. En este mundo virtual, los seres humanos que son conscientes de la verdadera \\nesencia de lo que les rodea son capaces de desafiar parcialmente las leyes físicas y realizar \\nhazañas asombrosas. Lo que el grupo no sabe es que Cypher, un veterano miembro de la nave, \\nlos traicionará al entrar en tratos con el Agente Smith para entregarle a Morfeo. \\n \\nUn día, Morfeo decide ir a Matrix para que Neo vea al Oráculo, la misma que hizo la profecía \\ndel elegido. Ella le dice que él no es «el elegido», añadiendo «tal vez en la próxima vida», pero \\nque Morfeo creía en él ciegamente. Añade que Neo tendría que elegir entre salvar su propia \\nvida o la de Morfeo. Al volver de hablar con el Oráculo, se ven atrapados por agentes y policías \\nen el edificio por donde entraron. Los agentes matan a Mouse y capturan a Morfeo cuando \\neste intenta salvar a Neo. Los demás escapan, pero el traidor Cypher mata a Dozer, Apoc y a \\nSwitch y solo quedan con vida Trinity, Neo, Morfeo y Tank, quien, aunque herido, se encarga \\nde eliminar al traidor para salvar a sus compañeros. Cuando van a desconectar a Morfeo, para \\nque las máquinas no obtengan los códigos del ordenador central de Sion, Neo recuerda las \\npalabras del Oráculo y decide ir a rescatarlo. \\n \\nAl no lograr disuadirlo, Trinity decide acompañarlo. Después de una espectacular lucha contra \\nlos soldados y agentes que custodian el edificio donde Morfeo está detenido, consiguen \\nliberarlo. Morfeo y Trinity vuelven al mundo real por el teléfono de una estación de metro, \\npero cuando Neo les iba a seguir, el Agente Smith se lo impide. En vez de huir, se enfrenta a él \\ny con dificultad le vence, pero el Agente Smith toma otro cuerpo, por lo que Neo intenta \\nescapar seguido de otros dos agentes. Finalmente, el Agente Smith lo acorrala y le dispara, \\nmatándolo. Morfeo está estremecido, ya que además hay centinelas atacando la nave, pero \\nTrinity le dice al cuerpo de Neo que no puede estar muerto, y que él tiene que ser «El Elegido» \\nporque el Oráculo le dijo a ella que se enamoraría del elegido y Trinity estaba enamorada de \\nél. Luego le besa y Neo resucita. Sorprendido, el Agente Smith le dispara, pero Neo detiene las \\nbalas, parando con facilidad sus golpes y lo destruye, mientras los otros dos agentes huyen. \\nNeo se da cuenta de que es «el elegido» y vuelve al mundo real justo antes de que Morfeo use \\nun pulso electromagnético contra los centinelas (las máquinas enemigas) que habían invadido \\nla nave. \\n \\n \\n \\n \\n \\n '"
     ]
    }
   ],
   "source": [
    "texto"
   ]
  },
  {
   "cell_type": "code",
   "execution_count": 0,
   "metadata": {
    "application/vnd.databricks.v1+cell": {
     "cellMetadata": {
      "byteLimit": 2048000,
      "rowLimit": 10000
     },
     "inputWidgets": {},
     "nuid": "29123371-f299-42a5-9c7a-b85d3d38d1cd",
     "showTitle": false,
     "title": ""
    }
   },
   "outputs": [],
   "source": [
    "archivoTextoPlano = \"/tmp/DOCUMENTO_PLANO.txt\"\n",
    "\n",
    "with open(archivoTextoPlano, \"w\", encoding = \"utf-8\") as archivo:\n",
    "  archivo.write(texto)\n",
    "\n"
   ]
  },
  {
   "cell_type": "code",
   "execution_count": 0,
   "metadata": {
    "application/vnd.databricks.v1+cell": {
     "cellMetadata": {
      "byteLimit": 2048000,
      "rowLimit": 10000
     },
     "inputWidgets": {},
     "nuid": "dd40708e-60d7-4e0b-b1d1-a2dda1c5b480",
     "showTitle": false,
     "title": ""
    }
   },
   "outputs": [
    {
     "output_type": "display_data",
     "data": {
      "text/html": [
       "<style scoped>\n",
       "  .ansiout {\n",
       "    display: block;\n",
       "    unicode-bidi: embed;\n",
       "    white-space: pre-wrap;\n",
       "    word-wrap: break-word;\n",
       "    word-break: break-all;\n",
       "    font-family: \"Menlo\", \"Monaco\", \"Consolas\", \"Ubuntu Mono\", \"Source Code Pro\", monospace;\n",
       "    font-size: 13px;\n",
       "    color: #555;\n",
       "    margin-left: 4px;\n",
       "    line-height: 19px;\n",
       "  }\n",
       "</style>\n",
       "<div class=\"ansiout\">res1: Boolean = true\n",
       "</div>"
      ]
     },
     "metadata": {
      "application/vnd.databricks.v1+output": {
       "addedWidgets": {},
       "arguments": {},
       "data": "<div class=\"ansiout\">res1: Boolean = true\n</div>",
       "datasetInfos": [],
       "metadata": {
        "isDbfsCommandResult": false
       },
       "removedWidgets": [],
       "type": "html"
      }
     },
     "output_type": "display_data"
    }
   ],
   "source": [
    "%fs cp file:///tmp/DOCUMENTO_PLANO.txt dbfs:///mnt/azure"
   ]
  }
 ],
 "metadata": {
  "application/vnd.databricks.v1+notebook": {
   "dashboards": [],
   "language": "python",
   "notebookMetadata": {
    "mostRecentlyExecutedCommandWithImplicitDF": {
     "commandId": 1925506339544775,
     "dataframes": [
      "_sqldf"
     ]
    },
    "pythonIndentUnit": 2
   },
   "notebookName": "lab69-Extraccion texto de documento PDF",
   "widgets": {}
  }
 },
 "nbformat": 4,
 "nbformat_minor": 0
}
