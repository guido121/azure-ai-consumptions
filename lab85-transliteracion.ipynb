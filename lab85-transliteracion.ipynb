{
 "cells": [
  {
   "cell_type": "code",
   "execution_count": 0,
   "metadata": {
    "application/vnd.databricks.v1+cell": {
     "cellMetadata": {
      "byteLimit": 2048000,
      "rowLimit": 10000
     },
     "inputWidgets": {},
     "nuid": "476eeb57-5686-4353-b34c-d77d5013cff1",
     "showTitle": false,
     "title": ""
    }
   },
   "outputs": [],
   "source": [
    "#Utilitario para iniciar sesión en el servicio\n",
    "from azure.ai.translation.text import TranslatorCredential\n",
    "from azure.ai.translation.text import TextTranslationClient\n",
    "from azure.ai.translation.text.models import InputTextItem"
   ]
  },
  {
   "cell_type": "code",
   "execution_count": 0,
   "metadata": {
    "application/vnd.databricks.v1+cell": {
     "cellMetadata": {
      "byteLimit": 2048000,
      "rowLimit": 10000
     },
     "inputWidgets": {},
     "nuid": "68371313-66b9-4695-b5ec-a88e310df738",
     "showTitle": false,
     "title": ""
    }
   },
   "outputs": [],
   "source": [
    "region = \"northcentralus\"\n",
    "clave = \"f7c6dc4994794ba8b4a62f8d53cf09cb\"\n",
    "credenciales = TranslatorCredential(clave, region)"
   ]
  },
  {
   "cell_type": "code",
   "execution_count": 0,
   "metadata": {
    "application/vnd.databricks.v1+cell": {
     "cellMetadata": {
      "byteLimit": 2048000,
      "rowLimit": 10000
     },
     "inputWidgets": {},
     "nuid": "af17689b-0529-4e4c-a257-4b238692860d",
     "showTitle": false,
     "title": ""
    }
   },
   "outputs": [],
   "source": [
    "servicio = TextTranslationClient(\n",
    "  credential=credenciales\n",
    ")"
   ]
  },
  {
   "cell_type": "code",
   "execution_count": 0,
   "metadata": {
    "application/vnd.databricks.v1+cell": {
     "cellMetadata": {
      "byteLimit": 2048000,
      "rowLimit": 10000
     },
     "inputWidgets": {},
     "nuid": "4e4f6a86-ddc1-4ea9-9afa-78ac89a5bf94",
     "showTitle": false,
     "title": ""
    }
   },
   "outputs": [],
   "source": [
    "documentos = [\n",
    "\"\"\"\n",
    "武道の道では、勝利と敗北は個人的なものとして捉えるべきではなく、学び成長の機会として捉えるべきです。\n",
    "\"\"\",\n",
    "\"\"\"\n",
    "真の知恵は、自分がすべてを知っていると思わないことにあります。常に学ぶべき新しいことがあります。\n",
    "\"\"\",\n",
    "\"\"\"\n",
    "心より強力な武器はありません。自分の思考を制御すれば、どんな挑戦でも克服できるでしょう。\n",
    "\"\"\"\n",
    "]"
   ]
  },
  {
   "cell_type": "code",
   "execution_count": 0,
   "metadata": {
    "application/vnd.databricks.v1+cell": {
     "cellMetadata": {
      "byteLimit": 2048000,
      "rowLimit": 10000
     },
     "inputWidgets": {},
     "nuid": "9d8e45bd-c954-4297-8643-227f924bc63e",
     "showTitle": false,
     "title": ""
    }
   },
   "outputs": [],
   "source": []
  },
  {
   "cell_type": "code",
   "execution_count": 0,
   "metadata": {
    "application/vnd.databricks.v1+cell": {
     "cellMetadata": {
      "byteLimit": 2048000,
      "rowLimit": 10000
     },
     "inputWidgets": {},
     "nuid": "a6720b7c-cb7b-4278-91f0-704ec2a4799e",
     "showTitle": false,
     "title": ""
    }
   },
   "outputs": [],
   "source": [
    "idioma = \"ja\""
   ]
  },
  {
   "cell_type": "code",
   "execution_count": 0,
   "metadata": {
    "application/vnd.databricks.v1+cell": {
     "cellMetadata": {
      "byteLimit": 2048000,
      "rowLimit": 10000
     },
     "inputWidgets": {},
     "nuid": "f3d7f25c-d99b-41a5-b5a2-d0737153ded9",
     "showTitle": false,
     "title": ""
    }
   },
   "outputs": [],
   "source": [
    "alfabetoOrigen = \"Jpan\""
   ]
  },
  {
   "cell_type": "code",
   "execution_count": 0,
   "metadata": {
    "application/vnd.databricks.v1+cell": {
     "cellMetadata": {
      "byteLimit": 2048000,
      "rowLimit": 10000
     },
     "inputWidgets": {},
     "nuid": "91928bcd-3437-4aa4-bf29-01f0086cb965",
     "showTitle": false,
     "title": ""
    }
   },
   "outputs": [],
   "source": [
    "alfabetoDestino = \"Latn\""
   ]
  },
  {
   "cell_type": "code",
   "execution_count": 0,
   "metadata": {
    "application/vnd.databricks.v1+cell": {
     "cellMetadata": {
      "byteLimit": 2048000,
      "rowLimit": 10000
     },
     "inputWidgets": {},
     "nuid": "fc8fd3c9-dc17-4cdd-8968-afbbd6d5f460",
     "showTitle": false,
     "title": ""
    }
   },
   "outputs": [],
   "source": [
    "documentosPorTraducir = []"
   ]
  },
  {
   "cell_type": "code",
   "execution_count": 0,
   "metadata": {
    "application/vnd.databricks.v1+cell": {
     "cellMetadata": {
      "byteLimit": 2048000,
      "rowLimit": 10000
     },
     "inputWidgets": {},
     "nuid": "933cc057-fc5c-4585-ae9c-7683cc85691a",
     "showTitle": false,
     "title": ""
    }
   },
   "outputs": [],
   "source": [
    "#Colocamos los documentos\n",
    "for documento in documentos:\n",
    "  documentosPorTraducir.append(\n",
    "    InputTextItem(text = documento)\n",
    "  )"
   ]
  },
  {
   "cell_type": "code",
   "execution_count": 0,
   "metadata": {
    "application/vnd.databricks.v1+cell": {
     "cellMetadata": {
      "byteLimit": 2048000,
      "rowLimit": 10000
     },
     "inputWidgets": {},
     "nuid": "0a486676-8e51-4bd7-8393-8dcb6637663b",
     "showTitle": false,
     "title": ""
    }
   },
   "outputs": [],
   "source": [
    "resultados = servicio.transliterate(\n",
    "  content = documentosPorTraducir,\n",
    "  language = idioma,\n",
    "  from_script = alfabetoOrigen,\n",
    "  to_script= alfabetoDestino\n",
    ")"
   ]
  },
  {
   "cell_type": "code",
   "execution_count": 0,
   "metadata": {
    "application/vnd.databricks.v1+cell": {
     "cellMetadata": {},
     "inputWidgets": {},
     "nuid": "790bd6f3-d4e9-4769-8ccb-64da3c567641",
     "showTitle": false,
     "title": ""
    }
   },
   "outputs": [
    {
     "output_type": "stream",
     "name": "stdout",
     "output_type": "stream",
     "text": [
      "Out[13]: [{'text': '\\n武道の道では、勝利と敗北は個人的なものとして捉えるべきではなく、学び成長の機会として捉えるべきです。\\n'},\n {'text': '\\n真の知恵は、自分がすべてを知っていると思わないことにあります。常に学ぶべき新しいことがあります。\\n'},\n {'text': '\\n心より強力な武器はありません。自分の思考を制御すれば、どんな挑戦でも克服できるでしょう。\\n'}]"
     ]
    }
   ],
   "source": [
    "documentosPorTraducir"
   ]
  },
  {
   "cell_type": "code",
   "execution_count": 0,
   "metadata": {
    "application/vnd.databricks.v1+cell": {
     "cellMetadata": {
      "byteLimit": 2048000,
      "rowLimit": 10000
     },
     "inputWidgets": {},
     "nuid": "b4fab8fe-7c31-4b38-af6c-105cf4fda38e",
     "showTitle": false,
     "title": ""
    }
   },
   "outputs": [
    {
     "output_type": "stream",
     "name": "stdout",
     "output_type": "stream",
     "text": [
      "Out[33]: {'text': '\\nbudou no michi de wa 、 shouri to haiboku wa kojin teki nani mono toshite toraeru beki de wa naku 、 manabi seichou no kikai toshite toraeru beki desu .\\n', 'script': 'Latn'}"
     ]
    }
   ],
   "source": [
    "resultados[0]"
   ]
  },
  {
   "cell_type": "code",
   "execution_count": 0,
   "metadata": {
    "application/vnd.databricks.v1+cell": {
     "cellMetadata": {
      "byteLimit": 2048000,
      "rowLimit": 10000
     },
     "inputWidgets": {},
     "nuid": "4eab4123-b271-4ab7-adbc-8e3d7becd902",
     "showTitle": false,
     "title": ""
    }
   },
   "outputs": [
    {
     "output_type": "stream",
     "name": "stdout",
     "output_type": "stream",
     "text": [
      "Latn|\nbudou no michi de wa 、 shouri to haiboku wa kojin teki nani mono toshite toraeru beki de wa naku 、 manabi seichou no kikai toshite toraeru beki desu .\n\n"
     ]
    }
   ],
   "source": [
    "#Definimos la linea\n",
    "linea = (\n",
    "  str(resultados[0][\"script\"]) + \"|\" +\n",
    "  str(resultados[0][\"text\"])\n",
    ")\n",
    "\n",
    "print(linea)\n"
   ]
  },
  {
   "cell_type": "code",
   "execution_count": 0,
   "metadata": {
    "application/vnd.databricks.v1+cell": {
     "cellMetadata": {
      "byteLimit": 2048000,
      "rowLimit": 10000
     },
     "inputWidgets": {},
     "nuid": "07d46afe-e27d-4a5c-8cb3-46834dc1b243",
     "showTitle": false,
     "title": ""
    }
   },
   "outputs": [],
   "source": [
    "descripcion = \"\""
   ]
  },
  {
   "cell_type": "code",
   "execution_count": 0,
   "metadata": {
    "application/vnd.databricks.v1+cell": {
     "cellMetadata": {
      "byteLimit": 2048000,
      "rowLimit": 10000
     },
     "inputWidgets": {},
     "nuid": "0795623b-dd21-46ae-a94a-4df5167a0758",
     "showTitle": false,
     "title": ""
    }
   },
   "outputs": [],
   "source": [
    "#Iteramos cada resultado de cada documento\n",
    "for resultado in resultados:\n",
    "  #Definimos la liena\n",
    "  linea = (\n",
    "    str(resultado[\"script\"]) + \"|\" +\n",
    "    str(resultado[\"text\"])\n",
    "  )\n",
    "\n",
    "  #Agregamos cada linea a la descripción\n",
    "  descripcion = descripcion + linea + \"\\n\""
   ]
  },
  {
   "cell_type": "code",
   "execution_count": 0,
   "metadata": {
    "application/vnd.databricks.v1+cell": {
     "cellMetadata": {
      "byteLimit": 2048000,
      "rowLimit": 10000
     },
     "inputWidgets": {},
     "nuid": "caacc857-3f20-4b68-b5bc-e7bb4dbd3e15",
     "showTitle": false,
     "title": ""
    }
   },
   "outputs": [],
   "source": [
    "descripcion = \"ALFABETO|TRANSLITERACION\" + \"\\n\" + descripcion"
   ]
  },
  {
   "cell_type": "code",
   "execution_count": 0,
   "metadata": {
    "application/vnd.databricks.v1+cell": {
     "cellMetadata": {
      "byteLimit": 2048000,
      "rowLimit": 10000
     },
     "inputWidgets": {},
     "nuid": "6a2e1cd1-2af2-4693-ba51-930479a86bb6",
     "showTitle": false,
     "title": ""
    }
   },
   "outputs": [
    {
     "output_type": "stream",
     "name": "stdout",
     "output_type": "stream",
     "text": [
      "ALFABETO|TRANSLITERACION\nLatn|\nbudou no michi de wa 、 shouri to haiboku wa kojin teki nani mono toshite toraeru beki de wa naku 、 manabi seichou no kikai toshite toraeru beki desu .\n\nLatn|\nma no chie wa 、 jibun ga subete wa shitsu te iru to omowa nai koto ni ari masu . tsuneni manabu beki atarashii koto ga ari masu .\n\nLatn|\nkokoro yori kyouryoku nani buki wa ari mase nichi . jibun no shikou wa seigyo sure ba 、 donna chousen de mo kokufuku dekiru desho u .\n\n\n"
     ]
    }
   ],
   "source": [
    "#Verificamos\n",
    "print(descripcion)"
   ]
  }
 ],
 "metadata": {
  "application/vnd.databricks.v1+notebook": {
   "dashboards": [],
   "language": "python",
   "notebookMetadata": {
    "pythonIndentUnit": 2
   },
   "notebookName": "lab85-transliteracion",
   "widgets": {}
  }
 },
 "nbformat": 4,
 "nbformat_minor": 0
}
